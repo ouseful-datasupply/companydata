{
 "cells": [
  {
   "cell_type": "code",
   "execution_count": 7,
   "id": "9ce96377-a3f8-41b8-af2f-92d64f29849f",
   "metadata": {},
   "outputs": [],
   "source": [
    "import pandas as pd\n",
    "import sqlite3\n",
    "conn = sqlite3.connect('iwRegisteredCompanies.db')"
   ]
  },
  {
   "cell_type": "code",
   "execution_count": 15,
   "id": "ccfac352-7b4d-4712-8404-22b3a34e1dd0",
   "metadata": {},
   "outputs": [
    {
     "data": {
      "text/plain": [
       "4901"
      ]
     },
     "execution_count": 15,
     "metadata": {},
     "output_type": "execute_result"
    }
   ],
   "source": [
    "df1 = pd.read_csv(\"iwRegisteredCompanies.csv\")\n",
    "df1.to_sql('iwRegisteredCompanies', conn, if_exists='replace', index=False)\n",
    "df2 = pd.read_csv(\"sic_codes.csv\")\n",
    "df2.to_sql('sic_codes', conn, if_exists='replace', index=False)\n",
    "\n",
    "df_exploded = df1.assign(sic_code=df1['nature_of_business'].str.split()).explode('sic_code')\n",
    "df_exploded['sic_code'] = df_exploded['sic_code'].astype('Int64')\n",
    "df_exploded[['company_number', 'sic_code']].to_sql('nature_of_business', conn, if_exists='replace', index=False)\n"
   ]
  },
  {
   "cell_type": "code",
   "execution_count": 34,
   "id": "6dd84e3e-9bac-4172-a005-36f2bf1fd3d2",
   "metadata": {},
   "outputs": [
    {
     "data": {
      "text/plain": [
       "615"
      ]
     },
     "execution_count": 34,
     "metadata": {},
     "output_type": "execute_result"
    }
   ],
   "source": [
    "# Via https://www.ons.gov.uk/aboutus/transparencyandgovernance/freedomofinformationfoi/siccodesandgroupingnames\n",
    "\n",
    "sic_hierarchy_df =pd.read_csv(\"publisheduksicsummaryofstructureworksheet.csv\")\n",
    "for c in [\"SECTION\",\"Division\",\"Group\"]:\n",
    "    sic_hierarchy_df[c] = sic_hierarchy_df.apply(lambda row: row[\"Description\"] if row[\"Level headings\"] == c else None, axis=1)\n",
    "    sic_hierarchy_df[c] = sic_hierarchy_df[c].ffill()\n",
    "sic_hierarchy_df = sic_hierarchy_df[sic_hierarchy_df[\"Level headings\"]==\"Class\"]\n",
    "sic_hierarchy_df.dropna(how=\"all\", inplace=True, axis=1)\n",
    "sic_hierarchy_df.rename(columns={\"SECTION\":\"Section\",\"Most disaggregated level\":\"sic_code\"}, inplace=True)\n",
    "cols = [\"sic_code\", \"Class\", \"Section\", \"Division\", \"Group\"]\n",
    "sic_hierarchy_df[cols].to_sql('sic_code_hierarchy', conn, if_exists='replace', index=False)\n"
   ]
  },
  {
   "cell_type": "code",
   "execution_count": null,
   "id": "96283c6f-de5b-4b03-852f-528137d30434",
   "metadata": {},
   "outputs": [],
   "source": []
  }
 ],
 "metadata": {
  "kernelspec": {
   "display_name": "Python 3 (ipykernel)",
   "language": "python",
   "name": "python3"
  },
  "language_info": {
   "codemirror_mode": {
    "name": "ipython",
    "version": 3
   },
   "file_extension": ".py",
   "mimetype": "text/x-python",
   "name": "python",
   "nbconvert_exporter": "python",
   "pygments_lexer": "ipython3",
   "version": "3.11.0"
  }
 },
 "nbformat": 4,
 "nbformat_minor": 5
}
