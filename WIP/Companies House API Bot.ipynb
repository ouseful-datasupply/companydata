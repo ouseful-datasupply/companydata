{
 "cells": [
  {
   "cell_type": "markdown",
   "metadata": {},
   "source": [
    "# Quick Conversations With the Companies House API\n",
    "\n",
    "This notebook describes a basic converational UI for working with the UK Companies House API.\n",
    "\n",
    "To work with the API, you will need to get an API key: \n",
    "\n",
    "\n"
   ]
  },
  {
   "cell_type": "code",
   "execution_count": null,
   "metadata": {
    "collapsed": true
   },
   "outputs": [],
   "source": [
    "CH_API_TOKEN=''"
   ]
  },
  {
   "cell_type": "code",
   "execution_count": 101,
   "metadata": {
    "collapsed": false
   },
   "outputs": [],
   "source": [
    "import urllib2, base64, json\n",
    "from urllib import urlencode\n",
    "from time import sleep\n",
    "\n",
    "def url_nice_req(url,t=300):\n",
    "    try:\n",
    "        return urllib2.urlopen(url)\n",
    "    except urllib2.HTTPError, e:\n",
    "        if e.code == 429:\n",
    "            print(\"Overloaded API, resting for a bit...\")\n",
    "            sleep(t)\n",
    "            return url_req(url)"
   ]
  },
  {
   "cell_type": "code",
   "execution_count": 150,
   "metadata": {
    "collapsed": false
   },
   "outputs": [],
   "source": [
    "#Inspired by http://stackoverflow.com/a/2955687/454773\n",
    "def ch_request(CH_API_TOKEN,url,args=None):\n",
    "    if args is not None:\n",
    "        url='{}?{}'.format(url,urlencode(args))\n",
    "    request = urllib2.Request(url)\n",
    "    # You need the replace to handle encodestring adding a trailing newline \n",
    "    # (https://docs.python.org/2/library/base64.html#base64.encodestring)\n",
    "    base64string = base64.encodestring('%s:' % (CH_API_TOKEN)).replace('\\n', '')\n",
    "    request.add_header(\"Authorization\", \"Basic %s\" % base64string)   \n",
    "    result = url_nice_req(request)\n",
    "\n",
    "    #This is too hacky - need to see why it fails if it does\n",
    "    if result is None:\n",
    "        print('Oops: {}, {}'.format(url,result))\n",
    "        return None\n",
    "        \n",
    "    j=json.loads(result.read())        \n",
    "        \n",
    "    return j"
   ]
  },
  {
   "cell_type": "code",
   "execution_count": 13,
   "metadata": {
    "collapsed": false
   },
   "outputs": [],
   "source": [
    "def ch_searchCompanies(q,n=50,start_index='',typ=None):\n",
    "    #typ: exact, contains, None,\n",
    "    url= 'https://api.companieshouse.gov.uk/search/companies'\n",
    "    properties={'q':q,'items_per_page':n,'start_index':''}\n",
    "    c=ch_request(CH_API_TOKEN,url,properties)\n",
    "    \n",
    "    if c is None:\n",
    "        return c\n",
    "    \n",
    "    if typ=='contains':\n",
    "        c['items']=[i for i in c['items'] if q.lower() in i['title'].lower()]\n",
    "    elif typ=='exact':\n",
    "        c['items']=[i for i in c['items'] if q.lower() == i['title'].lower()]\n",
    "    return c"
   ]
  },
  {
   "cell_type": "code",
   "execution_count": null,
   "metadata": {
    "collapsed": false
   },
   "outputs": [],
   "source": [
    "ch_searchCompanies('Manchester United',5,typ='contains')"
   ]
  },
  {
   "cell_type": "code",
   "execution_count": 16,
   "metadata": {
    "collapsed": false
   },
   "outputs": [],
   "source": [
    "def ch_getCompany(cn):\n",
    "    url=\"https://api.companieshouse.gov.uk/company/{}\".format(cn)\n",
    "    return ch_request(CH_API_TOKEN,url)"
   ]
  },
  {
   "cell_type": "code",
   "execution_count": 18,
   "metadata": {
    "collapsed": false
   },
   "outputs": [
    {
     "data": {
      "text/plain": [
       "{u'accounts': {u'accounting_reference_date': {u'day': u'31', u'month': u'07'},\n",
       "  u'last_accounts': {u'made_up_to': u'2015-07-31', u'type': u'small'},\n",
       "  u'next_due': u'2017-04-30',\n",
       "  u'next_made_up_to': u'2016-07-31',\n",
       "  u'overdue': False},\n",
       " u'annual_return': {u'last_made_up_to': u'2015-12-10',\n",
       "  u'next_due': u'2017-01-07',\n",
       "  u'next_made_up_to': u'2016-12-10',\n",
       "  u'overdue': False},\n",
       " u'can_file': True,\n",
       " u'company_name': u'FUTURELEARN LIMITED',\n",
       " u'company_number': u'08324083',\n",
       " u'company_status': u'active',\n",
       " u'date_of_creation': u'2012-12-10',\n",
       " u'etag': u'4565707d8be4178f121de69373319c1f2787e74d',\n",
       " u'has_been_liquidated': False,\n",
       " u'has_charges': False,\n",
       " u'has_insolvency_history': False,\n",
       " u'jurisdiction': u'england-wales',\n",
       " u'last_full_members_list_date': u'2015-12-10',\n",
       " u'registered_office_address': {u'address_line_1': u'Chambers Building',\n",
       "  u'address_line_2': u'Walton Hall',\n",
       "  u'locality': u'Milton Keynes',\n",
       "  u'po_box': u'77',\n",
       "  u'postal_code': u'MK7 6BT'},\n",
       " u'sic_codes': [u'85590'],\n",
       " u'type': u'ltd',\n",
       " u'undeliverable_registered_office_address': False}"
      ]
     },
     "execution_count": 18,
     "metadata": {},
     "output_type": "execute_result"
    }
   ],
   "source": [
    "ch_getCompany('08324083')"
   ]
  },
  {
   "cell_type": "code",
   "execution_count": 19,
   "metadata": {
    "collapsed": true
   },
   "outputs": [],
   "source": [
    "def ch_getCompanyAddress(cn):\n",
    "    url=\"https://api.companieshouse.gov.uk/company/{}/registered-office-address\".format(cn)\n",
    "    return ch_request(CH_API_TOKEN,url)"
   ]
  },
  {
   "cell_type": "code",
   "execution_count": 20,
   "metadata": {
    "collapsed": false
   },
   "outputs": [
    {
     "data": {
      "text/plain": [
       "{u'address_line_1': u'Chambers Building',\n",
       " u'address_line_2': u'Walton Hall',\n",
       " u'locality': u'Milton Keynes',\n",
       " u'po_box': u'77',\n",
       " u'postal_code': u'MK7 6BT'}"
      ]
     },
     "execution_count": 20,
     "metadata": {},
     "output_type": "execute_result"
    }
   ],
   "source": [
    "ch_getCompanyAddress('08324083')"
   ]
  },
  {
   "cell_type": "code",
   "execution_count": 21,
   "metadata": {
    "collapsed": true
   },
   "outputs": [],
   "source": [
    "def ch_getCompanyInsolvency(cn):\n",
    "    url=\"https://api.companieshouse.gov.uk/company/{}/insolvency\".format(cn)\n",
    "    return ch_request(CH_API_TOKEN,url) #May return None"
   ]
  },
  {
   "cell_type": "code",
   "execution_count": null,
   "metadata": {
    "collapsed": false
   },
   "outputs": [],
   "source": [
    "ch_getCompanyInsolvency('08324083')"
   ]
  },
  {
   "cell_type": "code",
   "execution_count": 22,
   "metadata": {
    "collapsed": false
   },
   "outputs": [],
   "source": [
    "def ch_getCompanyCharges(cn,n=50,start_index=''):\n",
    "    url=\"https://api.companieshouse.gov.uk/company/{}/charges\".format(cn)\n",
    "    properties={'items_per_page':n,'start_index':''}\n",
    "    c=ch_request(CH_API_TOKEN,url,properties)\n",
    "    return c #May return None"
   ]
  },
  {
   "cell_type": "code",
   "execution_count": null,
   "metadata": {
    "collapsed": false
   },
   "outputs": [],
   "source": [
    "#ch_getCompanyCharges('08324083')"
   ]
  },
  {
   "cell_type": "code",
   "execution_count": 130,
   "metadata": {
    "collapsed": false
   },
   "outputs": [],
   "source": [
    "def ch_getCompanyOfficers(cn,typ='all',role='all'):\n",
    "    #typ: all, current, previous\n",
    "    url=\"https://api.companieshouse.gov.uk/company/{}/officers\".format(cn)\n",
    "    co=ch_request(CH_API_TOKEN,url)\n",
    "    \n",
    "    if co is None: return co\n",
    "    \n",
    "    if typ=='current':\n",
    "        co['items']=[i for i in co['items'] if 'resigned_on' not in i]\n",
    "        #should possibly check here that len(co['items'])==co['active_count'] ?\n",
    "    elif typ=='previous':\n",
    "        co['items']=[i for i in co['items'] if 'resigned_on' in i]\n",
    "    if role!='all':\n",
    "        co['items']=[i for i in co['items'] if role==i['officer_role']]\n",
    "    return co"
   ]
  },
  {
   "cell_type": "code",
   "execution_count": null,
   "metadata": {
    "collapsed": false
   },
   "outputs": [],
   "source": [
    "ch_getCompanyOfficers('08324083',typ='previous',role='director')"
   ]
  },
  {
   "cell_type": "code",
   "execution_count": 136,
   "metadata": {
    "collapsed": false
   },
   "outputs": [],
   "source": [
    "def ch_getAppointments(slug,location=None,typ='all',role='all'):\n",
    "    if len(slug.split('/'))==1:\n",
    "        slug='/officers/{}/appointments'.format(slug)\n",
    "    url= 'https://api.companieshouse.gov.uk{}'.format(slug)\n",
    "    a=ch_request(CH_API_TOKEN,url)\n",
    "\n",
    "    if a is None: return None\n",
    "    \n",
    "    if location is not None:\n",
    "        a['items']=[i for i in a['items'] if location.lower() in i['address']['locality'].lower()]\n",
    "    if typ=='current':\n",
    "        a['items']=[i for i in a['items'] if 'resigned_on' not in i]\n",
    "        a['items']=[i for i in a['items'] if 'company_status' in i['appointed_to'] and i['appointed_to']['company_status'] == 'active']\n",
    "        #should possibly check here that len(co['items'])==co['active_count'] ?\n",
    "    elif typ=='previous':\n",
    "        a['items']=[i for i in a['items'] if 'resigned_on' in i]\n",
    "    elif typ=='dissolved':\n",
    "        a['items']=[i for i in a['items'] if 'company_status' in i['appointed_to'] and i['appointed_to']['company_status'] == 'dissolved']\n",
    "\n",
    "    if role!='all':\n",
    "        a['items']=[i for i in a['items'] if role==i['officer_role']]\n",
    "    return a"
   ]
  },
  {
   "cell_type": "code",
   "execution_count": null,
   "metadata": {
    "collapsed": false,
    "scrolled": true
   },
   "outputs": [],
   "source": [
    "ch_getAppointments('/officers/Tyk3KEbbpwXQ0RJ-h7fRJCf08B4/appointments',typ='dissolved')"
   ]
  },
  {
   "cell_type": "code",
   "execution_count": 137,
   "metadata": {
    "collapsed": false
   },
   "outputs": [],
   "source": [
    "def ch_searchOfficers(name,n=50,start_index='',company='',exact=None):\n",
    "    url= 'https://api.companieshouse.gov.uk/search/officers'\n",
    "    properties={'q':name,'items_per_page':n,'start_index':start_index} \n",
    "    o=ch_request(CH_API_TOKEN,url,properties)\n",
    "    \n",
    "    if o is None: return o\n",
    "    \n",
    "    if exact=='forename':\n",
    "        #This isn't right eg double barrelled surnames\n",
    "        s=name.lower().split(' ')\n",
    "        o['items'] = [i for i in o['items'] if i['title'].lower().split(' ')[0]==s[0] and i['title'].lower().split(' ')[-1]==s[-1]]\n",
    "    elif exact=='fullname':\n",
    "        o['items'] = [i for i in o['items'] if i['title'].lower()==name.lower()]\n",
    "    if company != '':\n",
    "        for p in o['items']:\n",
    "            p['items'] = [i for i in ch_getAppointments(p['links']['self'])['items'] if company.lower() in i['appointed_to']['company_name'].lower()]\n",
    "        o['items'] = [i for i in o['items'] if len(i['items'])]\n",
    "    return o"
   ]
  },
  {
   "cell_type": "code",
   "execution_count": null,
   "metadata": {
    "collapsed": false
   },
   "outputs": [],
   "source": [
    "ch_searchOfficers('Bernard Ecclestone',n=5,company='Formula One')"
   ]
  },
  {
   "cell_type": "code",
   "execution_count": null,
   "metadata": {
    "collapsed": false,
    "scrolled": true
   },
   "outputs": [],
   "source": [
    "ch_searchOfficers('Bernard Ecclestone',n=10,exact='forename')"
   ]
  },
  {
   "cell_type": "code",
   "execution_count": null,
   "metadata": {
    "collapsed": false,
    "scrolled": true
   },
   "outputs": [],
   "source": [
    "ch_searchOfficers('Bernard Ecclestone',n=10)"
   ]
  },
  {
   "cell_type": "code",
   "execution_count": null,
   "metadata": {
    "collapsed": true
   },
   "outputs": [],
   "source": [
    "#TO DO\n",
    "# search for companies that a particular person was a director of at a particular time"
   ]
  },
  {
   "cell_type": "code",
   "execution_count": 26,
   "metadata": {
    "collapsed": true
   },
   "outputs": [],
   "source": [
    "def ch_disqualifiedOfficer(slug):\n",
    "    url=\"https://api.companieshouse.gov.uk{}\".format(slug)\n",
    "    return ch_request(CH_API_TOKEN,url)\n",
    "\n",
    "def ch_disqualifiedNaturalOfficer(o):\n",
    "    url=\"https://api.companieshouse.gov.uk/disqualified-officers/natural/{}\".format(o)\n",
    "    return ch_request(CH_API_TOKEN,url)\n",
    "\n",
    "def ch_disqualifiedCorporateOfficer(o):\n",
    "    url='https://api.companieshouse.gov.uk/disqualified-officers/corporate/{}'.format(o)\n",
    "    return ch_request(CH_API_TOKEN,url)"
   ]
  },
  {
   "cell_type": "code",
   "execution_count": 27,
   "metadata": {
    "collapsed": true
   },
   "outputs": [],
   "source": [
    "def ch_searchDisQualifiedOfficers(q,n=5,start_index='',company='',locality=''):\n",
    "    url= 'https://api.companieshouse.gov.uk/search/disqualified-officers'\n",
    "    properties={'q':q,'items_per_page':n,'start_index':start_index} \n",
    "    o=ch_request(CH_API_TOKEN,url,properties)\n",
    "    if company != '':\n",
    "        o['items'] = [j for j in o['items'] for i in ch_disqualifiedOfficer(j['links']['self'])['disqualifications'] for k in i['company_names'] if company.lower() in k.lower()]\n",
    "    if locality!='':\n",
    "        o['items'] = [j for j in o['items'] if locality.lower() in j['address']['locality'].lower()]\n",
    "    return o"
   ]
  },
  {
   "cell_type": "code",
   "execution_count": null,
   "metadata": {
    "collapsed": false
   },
   "outputs": [],
   "source": [
    "ch_searchDisQualifiedOfficers('Smith',3, locality=\"Liverpool\")"
   ]
  },
  {
   "cell_type": "code",
   "execution_count": null,
   "metadata": {
    "collapsed": false,
    "scrolled": true
   },
   "outputs": [],
   "source": [
    "ch_searchDisQualifiedOfficers('Smith',50,locality='Southampton')"
   ]
  },
  {
   "cell_type": "code",
   "execution_count": null,
   "metadata": {
    "collapsed": false
   },
   "outputs": [],
   "source": [
    "ch_searchDisQualifiedOfficers('Smith',3,company='land')"
   ]
  },
  {
   "cell_type": "code",
   "execution_count": null,
   "metadata": {
    "collapsed": false
   },
   "outputs": [],
   "source": [
    "ch_disqualifiedOfficer('/disqualified-officers/natural/Sdiyn47HQMtcH4T1l0MmRlw6kH8')"
   ]
  },
  {
   "cell_type": "code",
   "execution_count": null,
   "metadata": {
    "collapsed": true
   },
   "outputs": [],
   "source": []
  },
  {
   "cell_type": "markdown",
   "metadata": {},
   "source": [
    "The Companies House API doesn't provide a very powerful search facility, but we can finesse our own by loading the scattergun results from the Companies House API into an in memory database and then querying again."
   ]
  },
  {
   "cell_type": "code",
   "execution_count": 28,
   "metadata": {
    "collapsed": true
   },
   "outputs": [],
   "source": [
    "def dirCoSeeds(dirseeds,typ='all',role='all'):\n",
    "    ''' Find companies associated with dirseeds '''\n",
    "    coseeds=[]\n",
    "    for d in dirseeds:\n",
    "        for c in ch_getAppointments(d,typ=typ,role=role)['items']:\n",
    "            coseeds.append(c['appointed_to']['company_number'])\n",
    "    return coseeds"
   ]
  },
  {
   "cell_type": "code",
   "execution_count": null,
   "metadata": {
    "collapsed": false
   },
   "outputs": [],
   "source": [
    "dirseeds=[]\n",
    "for d in ch_searchOfficers('Anthony Charles Lynton Blair',n=10,exact='forename')['items']:\n",
    "    dirseeds.append(d['links']['self'])\n",
    "    \n",
    "coseeds=dirCoSeeds(dirseeds,typ='current',role='director')\n",
    "coseeds"
   ]
  },
  {
   "cell_type": "code",
   "execution_count": 37,
   "metadata": {
    "collapsed": false
   },
   "outputs": [],
   "source": [
    "!rm example.db"
   ]
  },
  {
   "cell_type": "code",
   "execution_count": 46,
   "metadata": {
    "collapsed": false
   },
   "outputs": [],
   "source": [
    "import sqlite3\n",
    "db=None\n",
    "memDB=\":memory:\"\n",
    "tmpDB='example.db'\n",
    "if db in locals():\n",
    "    db.close()\n",
    "\n",
    "def init_db(tmpDB=':memory:'):\n",
    "    db = sqlite3.connect(tmpDB)\n",
    "    c = db.cursor()\n",
    "\n",
    "    for drop in ['directorslite','companieslite','codirs','coredirs','singlecos']:\n",
    "        c.execute('''drop table if exists {}'''.format(drop))\n",
    "\n",
    "    c.execute('''create table directorslite\n",
    "             (dirnum text primary key,\n",
    "              dirdob integer,\n",
    "              dirname text)''')\n",
    "\n",
    "    c.execute('''create table companieslite\n",
    "             (conum text primary key,\n",
    "              costatus text,\n",
    "              coname text)''')\n",
    "\n",
    "    c.execute('''create table codirs\n",
    "             (conum text,\n",
    "              dirnum text,\n",
    "              typ text,\n",
    "              status text)''')\n",
    "\n",
    "    c.execute('''create table coredirs\n",
    "             (dirnum text)''')\n",
    "\n",
    "    c.execute('''create table singlecos\n",
    "             (conum text,\n",
    "              coname text)''')\n",
    "    return c\n",
    "\n",
    "cosdone=[]\n",
    "cosparsed=[]\n",
    "dirsdone=[]\n",
    "dirsparsed=[]\n",
    "codirsdone=[]"
   ]
  },
  {
   "cell_type": "code",
   "execution_count": 138,
   "metadata": {
    "collapsed": false
   },
   "outputs": [],
   "source": [
    "#coseeds=f1seeds#[]\n",
    "\n",
    "apicount=600\n",
    "\n",
    "def apiNice():\n",
    "    global apicount\n",
    "    apicount=apicount-1\n",
    "    if apicount<0:\n",
    "        print('Giving the api a rest')\n",
    "        apicount=600\n",
    "        sleep(250)\n",
    "        \n",
    "\n",
    "def updateOnCo(seed,typ='current',role='director'):\n",
    "    print('harvesting {}'.format(seed))\n",
    "    \n",
    "    #apiNice()\n",
    "    o=ch_getCompanyOfficers(seed,typ=typ,role=role)['items']\n",
    "    x=[{'dirnum':p['links']['officer']['appointments'].strip('/').split('/')[1],\n",
    "          'dirdob':p['date_of_birth']['year'] if 'date_of_birth' in p else None,\n",
    "          'dirname':p['name']} for p in o]\n",
    "    z=[]\n",
    "    for y in x:\n",
    "        if y['dirnum'] not in dirsdone:\n",
    "            z.append(y)\n",
    "            dirsdone.append(y['dirnum'])\n",
    "        if isinstance(z, dict): z=[z]\n",
    "    print('Adding {} directors'.format(len(z)))\n",
    "    c.executemany('INSERT INTO directorslite (dirnum, dirdob,dirname)'\n",
    "                     'VALUES (:dirnum,:dirdob,:dirname)', z)\n",
    "    for oo in [i for i in o if i['links']['officer']['appointments'].strip('/').split('/')[1] not in dirsparsed]:\n",
    "        oid=oo['links']['officer']['appointments'].strip('/').split('/')[1]\n",
    "        print('New director: {}'.format(oid))\n",
    "        #apiNice()\n",
    "        ooo=ch_getAppointments(oid,typ=typ,role=role)\n",
    "        if ooo is None: continue\n",
    "            \n",
    "        #apiNice()\n",
    "        #Play nice with the api\n",
    "        sleep(0.5)\n",
    "        #add company details\n",
    "        x=[{'conum':p['appointed_to']['company_number'],\n",
    "          'costatus':p['appointed_to']['company_status'] if 'company_status' in p['appointed_to'] else '',\n",
    "          'coname':p['appointed_to']['company_name'] if 'company_name' in p['appointed_to'] else ''} for p in ooo['items']]\n",
    "        z=[]\n",
    "        for y in x:\n",
    "            if y['conum'] not in cosdone:\n",
    "                z.append(y)\n",
    "                cosdone.append(y['conum'])\n",
    "        if isinstance(z, dict): z=[z]\n",
    "        print('Adding {} companies'.format(len(z)))\n",
    "        c.executemany('INSERT INTO companieslite (conum, costatus,coname)'\n",
    "                     'VALUES (:conum,:costatus,:coname)', z)\n",
    "        for i in x:cosdone.append(i['conum'])\n",
    "        #add company director links\n",
    "        \n",
    "        dirnum=ooo['links']['self'].strip('/').split('/')[1]\n",
    "        x=[{'conum':p['appointed_to']['company_number'],'dirnum':dirnum,\n",
    "            'typ':'current','status':'director'} for p in ooo['items']]\n",
    "        c.executemany('INSERT INTO codirs (conum, dirnum,typ,status)'\n",
    "                     'VALUES (:conum,:dirnum,:typ,:status)', x)\n",
    "        print('Adding {} company-directorships'.format(len(x)))\n",
    "        dirsparsed.append(oid)\n",
    "    cosparsed.append(seed)\n",
    "\n"
   ]
  },
  {
   "cell_type": "code",
   "execution_count": 164,
   "metadata": {
    "collapsed": true
   },
   "outputs": [],
   "source": [
    "#Get director details\n",
    "OUW='01260275'\n",
    "OUWWL='03221926'\n",
    "OUSB='03030735'\n",
    "\n",
    "#Tony Blair\n",
    "#Firerush Ventures 06901376\n",
    "#Windrush VEntures 06397276\n",
    "FIRERUSH='06901376'\n",
    "WINDRUSH='06397276'\n",
    "\n",
    "MEEJA='04480425'\n",
    "\n",
    "GOOGLEUK='03977902'\n",
    "\n",
    "ARSENAL_FOOTBALL_COMPANY='00109244'\n",
    "\n",
    "G4SF='09918291'\n",
    "\n",
    "TESCO='00445790'\n",
    "TESCOHOLDINGS='00243011'\n",
    "TAPESILVER='05205362'\n",
    "\n",
    "ACADEMIES_ENTERPRISE_TRUST='06625091'\n",
    "HARRIS_FEDERATION='06228587'\n",
    "UNITED_LEARNING_TRUST='04439859'\n",
    "REACH2_ACADEMIES_TRUST='08452281'\n",
    "OASIS_COMMUNITY_LEARNING='05398529'\n",
    "\n",
    "HALEWOOD_ACADEMY='07909397'\n",
    "\n",
    "F1='04169896'\n",
    "F1DIGMEDIA='08915039'\n",
    "\n",
    "COSWORTH='05177945'\n",
    "PRODRIVE='01777085'\n",
    "GINETTA='02744760'\n",
    "CAPSICUM_CARLIN='07047095'\n",
    "ARDEN_MOTORSPORT='03146450'\n",
    "\n",
    "MOTORSPORT_VISION='03446418'\n",
    "BARC='00516639'\n",
    "BRDC='01773946'\n",
    "\n",
    "WILLIAMS_GP_HOLDINGS='07475805'\n",
    "MCLAREN_GP='04352861'\n",
    "RED_BULL_RACING='03120645'\n",
    "MANOR_GP='06661964'\n",
    "MERCEDES_BENZ_GP='00787446'\n",
    "FORCE_INDIA_F1='03660294'\n",
    "\n",
    "IRON_MAIDEN_LLP='OC335408'\n",
    "\n",
    "RADIOHEAD_TRADEMARK='03408040'\n",
    "\n",
    "STEREOPHONICS_LTD='03225249'\n",
    "\n",
    "BLUR_TOURING='OC399569'\n",
    "\n",
    "THE_WHO_GROUP='00922303'\n",
    "\n",
    "LIBERTY_HOUSE='04272220'\n",
    "\n",
    "WORKING_TITLE='05839609'\n",
    "\n",
    "EMI='00053317'\n",
    "\n",
    "PURPLE_MANAGEMENT='01066855'\n",
    "IAN_GILLAN_MUSIC='01098591'\n",
    "\n",
    "coseeds=[LIBERTY_HOUSE]"
   ]
  },
  {
   "cell_type": "code",
   "execution_count": 22,
   "metadata": {
    "collapsed": true
   },
   "outputs": [],
   "source": [
    "coseeds=[co['company_number'] for co in ch_searchCompanies('Manchester United',5,typ='contains')['items']]"
   ]
  },
  {
   "cell_type": "code",
   "execution_count": 106,
   "metadata": {
    "collapsed": false
   },
   "outputs": [
    {
     "data": {
      "text/plain": [
       "{u'items': [{u'address': {u'address_line_1': u'Blackburn House',\n",
       "    u'address_line_2': u'Crouch Street',\n",
       "    u'locality': u'Colchester',\n",
       "    u'postal_code': u'CO3 3HH',\n",
       "    u'region': u'Essex'},\n",
       "   u'company_number': u'05839609',\n",
       "   u'company_status': u'active',\n",
       "   u'company_type': u'ltd',\n",
       "   u'date_of_creation': u'2006-06-07',\n",
       "   u'description': u'05839609 - Incorporated on  7 June 2006',\n",
       "   u'description_identifier': [u'incorporated-on'],\n",
       "   u'kind': u'searchresults#company',\n",
       "   u'links': {u'self': u'/company/05839609'},\n",
       "   u'matches': {u'title': [1, 7, 9, 13]},\n",
       "   u'snippet': u'Blackburn House, Crouch Street, Colchester, Essex, CO3 3HH',\n",
       "   u'title': u'WORKING TITLE LIMITED'},\n",
       "  {u'address': {u'address_line_1': u'57-63 North Parade',\n",
       "    u'locality': u'Bradford',\n",
       "    u'postal_code': u'BD1 3JH',\n",
       "    u'region': u'West Yorkshire'},\n",
       "   u'company_number': u'09274597',\n",
       "   u'company_status': u'dissolved',\n",
       "   u'company_type': u'ltd',\n",
       "   u'date_of_cessation': u'2016-04-05',\n",
       "   u'date_of_creation': u'2014-10-22',\n",
       "   u'description': u'09274597 - Dissolved on  5 April 2016',\n",
       "   u'description_identifier': [u'dissolved-on'],\n",
       "   u'kind': u'searchresults#company',\n",
       "   u'links': {u'self': u'/company/09274597'},\n",
       "   u'matches': {u'title': [1, 7, 9, 13]},\n",
       "   u'snippet': u'57-63 North Parade, Bradford, West Yorkshire, BD1 3JH',\n",
       "   u'title': u'WORKING TITLE CINEMA LTD'},\n",
       "  {u'address': {u'address_line_1': u'1 WATER LANE',\n",
       "    u'locality': u'LONDON',\n",
       "    u'postal_code': u'NW1 8NZ'},\n",
       "   u'company_number': u'LP003463',\n",
       "   u'company_status': u'active',\n",
       "   u'company_type': u'limited-partnership',\n",
       "   u'date_of_creation': u'1988-07-21',\n",
       "   u'description': u'LP003463 - Registered on 21 July 1988',\n",
       "   u'description_identifier': [u'registered-on'],\n",
       "   u'kind': u'searchresults#company',\n",
       "   u'links': {u'self': u'/company/LP003463'},\n",
       "   u'matches': {u'title': [1, 7, 9, 13]},\n",
       "   u'snippet': u'1 Water Lane, London, NW1 8NZ',\n",
       "   u'title': u'WORKING TITLE TELEVISION'},\n",
       "  {u'address': {u'address_line_1': u'54 Beechwood Drive',\n",
       "    u'address_line_2': u'Thorpe St Andrew',\n",
       "    u'locality': u'Norwich',\n",
       "    u'postal_code': u'NR7 0LP',\n",
       "    u'region': u'Norfolk'},\n",
       "   u'company_number': u'10014381',\n",
       "   u'company_status': u'active',\n",
       "   u'company_type': u'ltd',\n",
       "   u'date_of_creation': u'2016-02-19',\n",
       "   u'description': u'10014381 - Incorporated on 19 February 2016',\n",
       "   u'description_identifier': [u'incorporated-on'],\n",
       "   u'kind': u'searchresults#company',\n",
       "   u'links': {u'self': u'/company/10014381'},\n",
       "   u'matches': {u'title': [1, 7, 9, 13]},\n",
       "   u'snippet': u'54 Beechwood Drive, Thorpe St Andrew, Norwich, Norfolk, NR7 0LP',\n",
       "   u'title': u'WORKING TITLE CLOTHING LTD'},\n",
       "  {u'address': {u'address_line_1': u'1',\n",
       "    u'address_line_2': u'CENTRAL ST. GILES',\n",
       "    u'locality': u'LONDON',\n",
       "    u'postal_code': u'WC2H 8NU'},\n",
       "   u'company_number': u'02755827',\n",
       "   u'company_status': u'active',\n",
       "   u'company_type': u'ltd',\n",
       "   u'date_of_creation': u'1992-10-14',\n",
       "   u'description': u'02755827 - Incorporated on 14 October 1992',\n",
       "   u'description_identifier': [u'incorporated-on'],\n",
       "   u'kind': u'searchresults#company',\n",
       "   u'links': {u'self': u'/company/02755827'},\n",
       "   u'matches': {u'title': [1, 7, 9, 13]},\n",
       "   u'snippet': u'1, Central St. Giles, London, WC2H 8NU',\n",
       "   u'title': u'WORKING TITLE FILMS LIMITED'}],\n",
       " u'items_per_page': 5,\n",
       " u'kind': u'search#companies',\n",
       " u'page_number': 1,\n",
       " u'start_index': 0,\n",
       " u'total_results': 12}"
      ]
     },
     "execution_count": 106,
     "metadata": {},
     "output_type": "execute_result"
    }
   ],
   "source": [
    "ch_searchCompanies('working title',5,typ='contains')"
   ]
  },
  {
   "cell_type": "code",
   "execution_count": 171,
   "metadata": {
    "collapsed": false
   },
   "outputs": [],
   "source": [
    "!rm example.db\n",
    "cosdone=[]\n",
    "cosparsed=[]\n",
    "dirsdone=[]\n",
    "dirsparsed=[]\n",
    "codirsdone=[]\n",
    "c=init_db('example.db')"
   ]
  },
  {
   "cell_type": "code",
   "execution_count": 172,
   "metadata": {
    "collapsed": false
   },
   "outputs": [],
   "source": [
    "coseeds=['00841344']"
   ]
  },
  {
   "cell_type": "code",
   "execution_count": 173,
   "metadata": {
    "collapsed": false
   },
   "outputs": [
    {
     "name": "stdout",
     "output_type": "stream",
     "text": [
      "harvesting 00841344\n",
      "Adding 4 directors\n",
      "New director: w3uRV-ba1aX6PH6wFf8ZRJ79wdc\n",
      "Adding 4 companies\n",
      "Adding 4 company-directorships\n",
      "New director: bcWhTORHkNrxzTUB17JRzeUlTqE\n",
      "Adding 1 companies\n",
      "Adding 1 company-directorships\n",
      "New director: U5zvMYMhGjq7xhgFr0y56A5V95k\n",
      "Adding 0 companies\n",
      "Adding 1 company-directorships\n",
      "New director: b-CCU8mD1pO6F6vB9f-5hp-r2-E\n",
      "Adding 0 companies\n",
      "Adding 1 company-directorships\n",
      "done...\n"
     ]
    }
   ],
   "source": [
    "typ='current'\n",
    "#Need to handle director or LLP Designated Member\n",
    "role='all'\n",
    "for seed in coseeds:\n",
    "    updateOnCo(seed,typ=typ,role=role)\n",
    "c.executemany('INSERT INTO coredirs (dirnum) VALUES (?)', [[d] for d in dirsparsed])\n",
    "\n",
    "seeder_roles=['Finance Director']\n",
    "#for dirs in seeded_cos, if dir_role is in seeder_roles then do a second seeding based on their companies\n",
    "#TO DO\n",
    "print('done...')\n",
    "depth=0"
   ]
  },
  {
   "cell_type": "code",
   "execution_count": 174,
   "metadata": {
    "collapsed": false
   },
   "outputs": [
    {
     "name": "stdout",
     "output_type": "stream",
     "text": [
      "---------------\n",
      "Filling out level - 0...\n",
      "('To fetch: ', [u'03815912', u'03459209', u'00989959', u'SC014586'])\n",
      "harvesting 03815912\n",
      "Adding 1 directors\n",
      "New director: Pjx7-ZTd2uR1mqlJ40iNIINKTQA\n",
      "Adding 0 companies\n",
      "Adding 1 company-directorships\n",
      "harvesting 03459209\n",
      "Adding 3 directors\n",
      "New director: Ez92urM0DBXEXRMYl_MXrSduVHc\n",
      "Adding 34 companies\n",
      "Adding 35 company-directorships\n",
      "New director: WuFnOHXbXRVLGc2bQGkcrgpiWS4\n",
      "Adding 18 companies\n",
      "Adding 31 company-directorships\n",
      "New director: 6sbSgRBN7vbw1fQrfGXJqGK-fe4\n",
      "Adding 0 companies\n",
      "Adding 1 company-directorships\n",
      "harvesting 00989959\n",
      "Adding 1 directors\n",
      "New director: GA8GhuyYjJr3nxNniKeglujJZBg\n",
      "Adding 12 companies\n",
      "Adding 30 company-directorships\n",
      "harvesting SC014586\n",
      "Adding 1 directors\n",
      "New director: 1_poRFnoQHfmjeP3K1iEJiNd18o\n",
      "Adding 1 companies\n",
      "Adding 2 company-directorships\n",
      "---------------\n",
      "Filling out level - 1...\n",
      "('To fetch: ', [])\n",
      "---------------\n",
      "Filling out level - 2...\n",
      "('To fetch: ', [])\n"
     ]
    }
   ],
   "source": [
    "seeder=True\n",
    "oneDirSeed=True\n",
    "#typ='current'\n",
    "#role='director'\n",
    "maxdepth=3\n",
    "#relaxed=0\n",
    "while depth<maxdepth:\n",
    "    print('---------------\\nFilling out level - {}...'.format(depth))\n",
    "    if seeder and depth==0:\n",
    "        #Another policy would be dive on all companies associated w/ dirs of seed\n",
    "        #In which case set the above test to depth==0\n",
    "        tofetch=[u[0] for u in c.execute(''' SELECT DISTINCT conum from codirs''')]\n",
    "    else:\n",
    "        duals=c.execute('''SELECT cd1.conum as c1,cd2.conum as c2, count(*) FROM codirs AS cd1\n",
    "                        LEFT JOIN codirs AS cd2 \n",
    "                        ON cd1.dirnum = cd2.dirnum AND cd1.dirnum\n",
    "                        WHERE cd1.conum < cd2.conum GROUP BY c1,c2 HAVING COUNT(*)>1\n",
    "                        ''')\n",
    "        tofetch=[x for t in duals for x in t[:2]]\n",
    "        #The above has some issues. eg only 1 director is required, and secretary IDs are unique to company\n",
    "        #Maybe need to change logic so if two directors OR company just has one director?\n",
    "        #if relaxed>0:\n",
    "        #    print('Being relaxed {} at depth {}...'.format(relaxed,depth))\n",
    "        #    duals=c.execute('''SELECT cd.conum as c1,cl.coname as cn, count(*) FROM codirs as cd JOIN companieslite as cl \n",
    "        #                 WHERE cd.conum= cl.conum GROUP BY c1,cn HAVING COUNT(*)=1\n",
    "        #                ''')\n",
    "        #    tofetch=tofetch+[x[0] for x in duals]\n",
    "        #    relaxed=relaxed-1\n",
    "    if depth==0 and oneDirSeed:\n",
    "        #add in companies with a single director first time round\n",
    "        sco=[]\n",
    "        for u in c.execute('''SELECT DISTINCT cd.conum, cl.coname FROM codirs cd  JOIN companieslite cl ON\n",
    "                                cd.conum=cl.conum'''):\n",
    "            #apiNice()\n",
    "            o=ch_getCompanyOfficers(u[0],typ=typ,role=role)\n",
    "            if len(o['items'])==1 or u[0]in coseeds:\n",
    "                sco.append({'conum':u[0],'coname':u[1]})\n",
    "                tofetch.append(u[0])\n",
    "        c.executemany('INSERT INTO singlecos (conum,coname) VALUES (:conum,:coname)', sco)\n",
    "    #TO DO: Another stategy might to to try to find the Finance Director or other names role and seed from them?\n",
    "    \n",
    "    #Get undone companies\n",
    "    print('To fetch: ',[u for u in tofetch if u not in cosparsed])\n",
    "    for u in [x for x in tofetch if x not in cosparsed]:\n",
    "            updateOnCo(u,typ=typ,role=role)\n",
    "            cosparsed.append(u)\n",
    "            #play nice\n",
    "            #apiNice()\n",
    "    depth=depth+1\n",
    "    #Parse companies"
   ]
  },
  {
   "cell_type": "code",
   "execution_count": 175,
   "metadata": {
    "collapsed": false
   },
   "outputs": [
    {
     "name": "stdout",
     "output_type": "stream",
     "text": [
      "(u'AVDEL HOLDING LIMITED', u'AVDEL UK LIMITED', 2)\n",
      "(u'AVDEL HOLDING LIMITED', u'BLACK & DECKER EUROPE', 2)\n",
      "(u'AVDEL HOLDING LIMITED', u'BLACK & DECKER FINANCE', 2)\n",
      "(u'AVDEL HOLDING LIMITED', u'MASTERFIX PRODUCTS U.K. LTD', 2)\n",
      "(u'AVDEL HOLDING LIMITED', u'PIH SERVICES LIMITED', 2)\n",
      "(u'AVDEL HOLDING LIMITED', u'PIPELINE INDUCTION HEAT LIMITED', 2)\n",
      "(u'AVDEL HOLDING LIMITED', u'SPIRALOCK OF EUROPE LTD.', 2)\n",
      "(u'AVDEL HOLDING LIMITED', u'STANLEY BLACK & DECKER INNOVATIONS LIMITED', 2)\n",
      "(u'AVDEL HOLDING LIMITED', u'STANLEY SECURITY SOLUTIONS (NI) LIMITED', 2)\n",
      "(u'AVDEL UK LIMITED', u'BLACK & DECKER EUROPE', 2)\n",
      "(u'AVDEL UK LIMITED', u'BLACK & DECKER FINANCE', 2)\n",
      "(u'AVDEL UK LIMITED', u'MASTERFIX PRODUCTS U.K. LTD', 2)\n",
      "(u'AVDEL UK LIMITED', u'PIH SERVICES LIMITED', 2)\n",
      "(u'AVDEL UK LIMITED', u'PIPELINE INDUCTION HEAT LIMITED', 2)\n",
      "(u'AVDEL UK LIMITED', u'SPIRALOCK OF EUROPE LTD.', 2)\n",
      "(u'AVDEL UK LIMITED', u'STANLEY BLACK & DECKER INNOVATIONS LIMITED', 2)\n",
      "(u'AVDEL UK LIMITED', u'STANLEY SECURITY SOLUTIONS (NI) LIMITED', 2)\n",
      "(u'AVEN TOOLS LIMITED', u'MASTERFIX UK HOLDINGS LIMITED', 2)\n",
      "(u'BLACK & DECKER EUROPE', u'MASTERFIX PRODUCTS U.K. LTD', 2)\n",
      "(u'BLACK & DECKER EUROPE', u'PIH SERVICES LIMITED', 2)\n",
      "(u'BLACK & DECKER EUROPE', u'SPIRALOCK OF EUROPE LTD.', 2)\n",
      "(u'BLACK & DECKER EUROPE', u'STANLEY BLACK & DECKER INNOVATIONS LIMITED', 2)\n",
      "(u'BLACK & DECKER EUROPE', u'STANLEY SECURITY SOLUTIONS (NI) LIMITED', 2)\n",
      "(u'BLACK & DECKER FINANCE', u'BLACK & DECKER EUROPE', 2)\n",
      "(u'BLACK & DECKER FINANCE', u'MASTERFIX PRODUCTS U.K. LTD', 2)\n",
      "(u'BLACK & DECKER FINANCE', u'PIH SERVICES LIMITED', 2)\n",
      "(u'BLACK & DECKER FINANCE', u'PIPELINE INDUCTION HEAT LIMITED', 2)\n",
      "(u'BLACK & DECKER FINANCE', u'SPIRALOCK OF EUROPE LTD.', 2)\n",
      "(u'BLACK & DECKER FINANCE', u'STANLEY BLACK & DECKER INNOVATIONS LIMITED', 2)\n",
      "(u'BLACK & DECKER FINANCE', u'STANLEY SECURITY SOLUTIONS (NI) LIMITED', 2)\n",
      "(u'BLACK & DECKER INVESTMENT COMPANY, LLC', u'UNIVERSAL INSPECTION SYSTEMS LIMITED', 2)\n",
      "(u'BLACK & DECKER PENSION TRUSTEE LIMITED', u'MASTERFIX PRODUCTS U.K. LTD', 2)\n",
      "(u'BLACK & DECKER PENSION TRUSTEE LIMITED', u'PIH SERVICES LIMITED', 2)\n",
      "(u'BLACK & DECKER PENSION TRUSTEE LIMITED', u'STANLEY BLACK & DECKER INNOVATIONS LIMITED', 2)\n",
      "(u'BLACK & DECKER PENSION TRUSTEE LIMITED', u'SWK (U.K.) HOLDING LIMITED', 2)\n",
      "(u'BLICK TIME SYSTEMS LIMITED', u'BLACK & DECKER PENSION TRUSTEE LIMITED', 2)\n",
      "(u'BLICK TIME SYSTEMS LIMITED', u'MASTERFIX PRODUCTS U.K. LTD', 2)\n",
      "(u'BLICK TIME SYSTEMS LIMITED', u'PIH SERVICES LIMITED', 2)\n",
      "(u'BLICK TIME SYSTEMS LIMITED', u'SRP SECURITY SYSTEMS LIMITED', 2)\n",
      "(u'BLICK TIME SYSTEMS LIMITED', u'STANLEY BLACK & DECKER INNOVATIONS LIMITED', 2)\n",
      "(u'BLICK TIME SYSTEMS LIMITED', u'STANLEY SECURITY SOLUTIONS OPERATIONS LIMITED', 2)\n",
      "(u'BLICK TIME SYSTEMS LIMITED', u'SWK (U.K.) HOLDING LIMITED', 2)\n",
      "(u'BLICK TIME SYSTEMS LIMITED', u'TRUSOUND INSTALLATION LIMITED', 2)\n",
      "(u'BLICK TIME SYSTEMS LIMITED', u'TRUSOUND LIMITED', 2)\n",
      "(u'ELU POWER TOOLS LTD', u'BLACK & DECKER INVESTMENT COMPANY, LLC', 2)\n",
      "(u'ELU POWER TOOLS LTD', u'MASTERFIX PRODUCTS U.K. LTD', 2)\n",
      "(u'ELU POWER TOOLS LTD', u'NISCAYAH HOLDINGS LIMITED', 2)\n",
      "(u'ELU POWER TOOLS LTD', u'P I H HOLDINGS LIMITED', 2)\n",
      "(u'ELU POWER TOOLS LTD', u'PIH SERVICES LIMITED', 2)\n",
      "(u'ELU POWER TOOLS LTD', u'STANLEY BLACK & DECKER INNOVATIONS LIMITED', 2)\n",
      "(u'ELU POWER TOOLS LTD', u'STANLEY BLACK & DECKER UK HOLDINGS LIMITED', 2)\n",
      "(u'ELU POWER TOOLS LTD', u'STANLEY BLACK & DECKER UK LIMITED', 2)\n",
      "(u'ELU POWER TOOLS LTD', u'UNIVERSAL INSPECTION SYSTEMS LIMITED', 2)\n",
      "(u'EMHART INTERNATIONAL LIMITED', u'BLACK & DECKER INVESTMENT COMPANY, LLC', 2)\n",
      "(u'EMHART INTERNATIONAL LIMITED', u'ELU POWER TOOLS LTD', 2)\n",
      "(u'EMHART INTERNATIONAL LIMITED', u'MASTERFIX PRODUCTS U.K. LTD', 2)\n",
      "(u'EMHART INTERNATIONAL LIMITED', u'NISCAYAH HOLDINGS LIMITED', 2)\n",
      "(u'EMHART INTERNATIONAL LIMITED', u'P I H HOLDINGS LIMITED', 2)\n",
      "(u'EMHART INTERNATIONAL LIMITED', u'PIH SERVICES LIMITED', 2)\n",
      "(u'EMHART INTERNATIONAL LIMITED', u'STANLEY BLACK & DECKER INNOVATIONS LIMITED', 2)\n",
      "(u'EMHART INTERNATIONAL LIMITED', u'STANLEY BLACK & DECKER UK HOLDINGS LIMITED', 2)\n",
      "(u'EMHART INTERNATIONAL LIMITED', u'STANLEY BLACK & DECKER UK LIMITED', 2)\n",
      "(u'EMHART INTERNATIONAL LIMITED', u'UNIVERSAL INSPECTION SYSTEMS LIMITED', 2)\n",
      "(u'MASTERFIX PRODUCTS U.K. LTD', u'BLACK & DECKER INVESTMENT COMPANY, LLC', 2)\n",
      "(u'MASTERFIX PRODUCTS U.K. LTD', u'PIH SERVICES LIMITED', 3)\n",
      "(u'MASTERFIX PRODUCTS U.K. LTD', u'STANLEY BLACK & DECKER INNOVATIONS LIMITED', 3)\n",
      "(u'MASTERFIX PRODUCTS U.K. LTD', u'STANLEY BLACK & DECKER UK HOLDINGS LIMITED', 2)\n",
      "(u'MASTERFIX PRODUCTS U.K. LTD', u'STANLEY BLACK & DECKER UK LIMITED', 2)\n",
      "(u'MASTERFIX PRODUCTS U.K. LTD', u'STANLEY SECURITY SOLUTIONS (NI) LIMITED', 2)\n",
      "(u'MASTERFIX PRODUCTS U.K. LTD', u'SWK (U.K.) HOLDING LIMITED', 2)\n",
      "(u'MASTERFIX PRODUCTS U.K. LTD', u'UNIVERSAL INSPECTION SYSTEMS LIMITED', 2)\n",
      "(u'NISCAYAH HOLDINGS LIMITED', u'BLACK & DECKER INVESTMENT COMPANY, LLC', 2)\n",
      "(u'NISCAYAH HOLDINGS LIMITED', u'MASTERFIX PRODUCTS U.K. LTD', 2)\n",
      "(u'NISCAYAH HOLDINGS LIMITED', u'P I H HOLDINGS LIMITED', 2)\n",
      "(u'NISCAYAH HOLDINGS LIMITED', u'PIH SERVICES LIMITED', 2)\n",
      "(u'NISCAYAH HOLDINGS LIMITED', u'STANLEY BLACK & DECKER INNOVATIONS LIMITED', 2)\n",
      "(u'NISCAYAH HOLDINGS LIMITED', u'STANLEY BLACK & DECKER UK HOLDINGS LIMITED', 2)\n",
      "(u'NISCAYAH HOLDINGS LIMITED', u'STANLEY BLACK & DECKER UK LIMITED', 2)\n",
      "(u'NISCAYAH HOLDINGS LIMITED', u'UNIVERSAL INSPECTION SYSTEMS LIMITED', 2)\n",
      "(u'P I H HOLDINGS LIMITED', u'BLACK & DECKER INVESTMENT COMPANY, LLC', 2)\n",
      "(u'P I H HOLDINGS LIMITED', u'MASTERFIX PRODUCTS U.K. LTD', 2)\n",
      "(u'P I H HOLDINGS LIMITED', u'PIH SERVICES LIMITED', 2)\n",
      "(u'P I H HOLDINGS LIMITED', u'STANLEY BLACK & DECKER INNOVATIONS LIMITED', 2)\n",
      "(u'P I H HOLDINGS LIMITED', u'STANLEY BLACK & DECKER UK HOLDINGS LIMITED', 2)\n",
      "(u'P I H HOLDINGS LIMITED', u'STANLEY BLACK & DECKER UK LIMITED', 2)\n",
      "(u'P I H HOLDINGS LIMITED', u'UNIVERSAL INSPECTION SYSTEMS LIMITED', 2)\n",
      "(u'PIH SERVICES LIMITED', u'BLACK & DECKER INVESTMENT COMPANY, LLC', 2)\n",
      "(u'PIH SERVICES LIMITED', u'STANLEY BLACK & DECKER INNOVATIONS LIMITED', 3)\n",
      "(u'PIH SERVICES LIMITED', u'STANLEY BLACK & DECKER UK HOLDINGS LIMITED', 2)\n",
      "(u'PIH SERVICES LIMITED', u'STANLEY BLACK & DECKER UK LIMITED', 2)\n",
      "(u'PIH SERVICES LIMITED', u'STANLEY SECURITY SOLUTIONS (NI) LIMITED', 2)\n",
      "(u'PIH SERVICES LIMITED', u'SWK (U.K.) HOLDING LIMITED', 2)\n",
      "(u'PIH SERVICES LIMITED', u'UNIVERSAL INSPECTION SYSTEMS LIMITED', 2)\n",
      "(u'PIPELINE INDUCTION HEAT LIMITED', u'BLACK & DECKER EUROPE', 2)\n",
      "(u'PIPELINE INDUCTION HEAT LIMITED', u'MASTERFIX PRODUCTS U.K. LTD', 2)\n",
      "(u'PIPELINE INDUCTION HEAT LIMITED', u'PIH SERVICES LIMITED', 2)\n",
      "(u'PIPELINE INDUCTION HEAT LIMITED', u'SPIRALOCK OF EUROPE LTD.', 2)\n",
      "(u'PIPELINE INDUCTION HEAT LIMITED', u'STANLEY BLACK & DECKER INNOVATIONS LIMITED', 2)\n",
      "(u'PIPELINE INDUCTION HEAT LIMITED', u'STANLEY SECURITY SOLUTIONS (NI) LIMITED', 2)\n",
      "(u'SPIRALOCK OF EUROPE LTD.', u'MASTERFIX PRODUCTS U.K. LTD', 2)\n",
      "(u'SPIRALOCK OF EUROPE LTD.', u'PIH SERVICES LIMITED', 2)\n",
      "(u'SPIRALOCK OF EUROPE LTD.', u'STANLEY BLACK & DECKER INNOVATIONS LIMITED', 2)\n",
      "(u'SPIRALOCK OF EUROPE LTD.', u'STANLEY SECURITY SOLUTIONS (NI) LIMITED', 2)\n",
      "(u'SRP SECURITY SYSTEMS LIMITED', u'BLACK & DECKER PENSION TRUSTEE LIMITED', 2)\n",
      "(u'SRP SECURITY SYSTEMS LIMITED', u'MASTERFIX PRODUCTS U.K. LTD', 2)\n",
      "(u'SRP SECURITY SYSTEMS LIMITED', u'PIH SERVICES LIMITED', 2)\n",
      "(u'SRP SECURITY SYSTEMS LIMITED', u'STANLEY BLACK & DECKER INNOVATIONS LIMITED', 2)\n",
      "(u'SRP SECURITY SYSTEMS LIMITED', u'SWK (U.K.) HOLDING LIMITED', 2)\n",
      "(u'STANLEY BLACK & DECKER INNOVATIONS LIMITED', u'BLACK & DECKER INVESTMENT COMPANY, LLC', 2)\n",
      "(u'STANLEY BLACK & DECKER INNOVATIONS LIMITED', u'STANLEY SECURITY SOLUTIONS (NI) LIMITED', 2)\n",
      "(u'STANLEY BLACK & DECKER INNOVATIONS LIMITED', u'UNIVERSAL INSPECTION SYSTEMS LIMITED', 2)\n",
      "(u'STANLEY BLACK & DECKER UK HOLDINGS LIMITED', u'BLACK & DECKER INVESTMENT COMPANY, LLC', 2)\n",
      "(u'STANLEY BLACK & DECKER UK HOLDINGS LIMITED', u'STANLEY BLACK & DECKER INNOVATIONS LIMITED', 2)\n",
      "(u'STANLEY BLACK & DECKER UK HOLDINGS LIMITED', u'UNIVERSAL INSPECTION SYSTEMS LIMITED', 2)\n",
      "(u'STANLEY BLACK & DECKER UK LIMITED', u'BLACK & DECKER INVESTMENT COMPANY, LLC', 2)\n",
      "(u'STANLEY BLACK & DECKER UK LIMITED', u'STANLEY BLACK & DECKER INNOVATIONS LIMITED', 2)\n",
      "(u'STANLEY BLACK & DECKER UK LIMITED', u'STANLEY BLACK & DECKER UK HOLDINGS LIMITED', 2)\n",
      "(u'STANLEY BLACK & DECKER UK LIMITED', u'UNIVERSAL INSPECTION SYSTEMS LIMITED', 2)\n",
      "(u'STANLEY SECURITY SOLUTIONS OPERATIONS LIMITED', u'BLACK & DECKER PENSION TRUSTEE LIMITED', 2)\n",
      "(u'STANLEY SECURITY SOLUTIONS OPERATIONS LIMITED', u'MASTERFIX PRODUCTS U.K. LTD', 2)\n",
      "(u'STANLEY SECURITY SOLUTIONS OPERATIONS LIMITED', u'PIH SERVICES LIMITED', 2)\n",
      "(u'STANLEY SECURITY SOLUTIONS OPERATIONS LIMITED', u'SRP SECURITY SYSTEMS LIMITED', 2)\n",
      "(u'STANLEY SECURITY SOLUTIONS OPERATIONS LIMITED', u'STANLEY BLACK & DECKER INNOVATIONS LIMITED', 2)\n",
      "(u'STANLEY SECURITY SOLUTIONS OPERATIONS LIMITED', u'SWK (U.K.) HOLDING LIMITED', 2)\n",
      "(u'STANLEY SECURITY SOLUTIONS OPERATIONS LIMITED', u'TRUSOUND INSTALLATION LIMITED', 2)\n",
      "(u'STANLEY SECURITY SOLUTIONS OPERATIONS LIMITED', u'TRUSOUND LIMITED', 2)\n",
      "(u'SWK (U.K.) HOLDING LIMITED', u'STANLEY BLACK & DECKER INNOVATIONS LIMITED', 2)\n",
      "(u'TRUSOUND INSTALLATION LIMITED', u'BLACK & DECKER PENSION TRUSTEE LIMITED', 2)\n",
      "(u'TRUSOUND INSTALLATION LIMITED', u'MASTERFIX PRODUCTS U.K. LTD', 2)\n",
      "(u'TRUSOUND INSTALLATION LIMITED', u'PIH SERVICES LIMITED', 2)\n",
      "(u'TRUSOUND INSTALLATION LIMITED', u'SRP SECURITY SYSTEMS LIMITED', 2)\n",
      "(u'TRUSOUND INSTALLATION LIMITED', u'STANLEY BLACK & DECKER INNOVATIONS LIMITED', 2)\n",
      "(u'TRUSOUND INSTALLATION LIMITED', u'SWK (U.K.) HOLDING LIMITED', 2)\n",
      "(u'TRUSOUND INSTALLATION LIMITED', u'TRUSOUND LIMITED', 2)\n",
      "(u'TRUSOUND LIMITED', u'BLACK & DECKER PENSION TRUSTEE LIMITED', 2)\n",
      "(u'TRUSOUND LIMITED', u'MASTERFIX PRODUCTS U.K. LTD', 2)\n",
      "(u'TRUSOUND LIMITED', u'PIH SERVICES LIMITED', 2)\n",
      "(u'TRUSOUND LIMITED', u'SRP SECURITY SYSTEMS LIMITED', 2)\n",
      "(u'TRUSOUND LIMITED', u'STANLEY BLACK & DECKER INNOVATIONS LIMITED', 2)\n",
      "(u'TRUSOUND LIMITED', u'SWK (U.K.) HOLDING LIMITED', 2)\n",
      "(u'TUCKER FASTENERS LIMITED', u'AVDEL HOLDING LIMITED', 2)\n",
      "(u'TUCKER FASTENERS LIMITED', u'AVDEL UK LIMITED', 2)\n",
      "(u'TUCKER FASTENERS LIMITED', u'BLACK & DECKER EUROPE', 2)\n",
      "(u'TUCKER FASTENERS LIMITED', u'BLACK & DECKER FINANCE', 2)\n",
      "(u'TUCKER FASTENERS LIMITED', u'MASTERFIX PRODUCTS U.K. LTD', 2)\n",
      "(u'TUCKER FASTENERS LIMITED', u'PIH SERVICES LIMITED', 2)\n",
      "(u'TUCKER FASTENERS LIMITED', u'PIPELINE INDUCTION HEAT LIMITED', 2)\n",
      "(u'TUCKER FASTENERS LIMITED', u'SPIRALOCK OF EUROPE LTD.', 2)\n",
      "(u'TUCKER FASTENERS LIMITED', u'STANLEY BLACK & DECKER INNOVATIONS LIMITED', 2)\n",
      "(u'TUCKER FASTENERS LIMITED', u'STANLEY SECURITY SOLUTIONS (NI) LIMITED', 2)\n",
      "-------\n"
     ]
    }
   ],
   "source": [
    "for u in c.execute('''SELECT cl1.coname as c1,cl2.coname as c2, count(*) FROM codirs AS cd1\n",
    "                        LEFT JOIN codirs AS cd2 JOIN companieslite as cl1 JOIN companieslite as cl2\n",
    "                        ON cd1.dirnum = cd2.dirnum and cd1.conum=cl1.conum and cd2.conum=cl2.conum\n",
    "                        WHERE cd1.conum < cd2.conum GROUP BY c1,c2 HAVING COUNT(*)>1'''): print(u)\n",
    "print('-------')    \n",
    "#if a co has a singleton dir and that dir is in coredirs, then join cos for that coredir\n",
    "for u in c.execute('''SELECT cl1.coname as c1,cl2.coname as c2 FROM codirs AS cd1\n",
    "                        LEFT JOIN codirs AS cd2 JOIN singlecos as cl1 JOIN singlecos as cl2\n",
    "                        ON cd1.dirnum = cd2.dirnum and cd1.conum=cl1.conum and cd2.conum=cl2.conum\n",
    "                        WHERE cd1.conum < cd2.conum'''):\n",
    "    print(u)\n",
    "    #for x in c.execute('''SELECT dirnum '''.format()):\n",
    "    #    if  print(u)\n",
    "#for u in c.execute('''SELECT cd.conum as c1,cl.coname as cn, count(*) FROM codirs as cd JOIN companieslite as cl \n",
    "#                         WHERE cd.conum= cl.conum GROUP BY c1,cn HAVING COUNT(*)=1\n",
    "#                        '''): print(u)\n",
    "\n",
    "#TO DO\n",
    "#for gephi, output with Source, Target and perhaps Weight (no. of co-dirs)"
   ]
  },
  {
   "cell_type": "code",
   "execution_count": 63,
   "metadata": {
    "collapsed": false
   },
   "outputs": [],
   "source": [
    "data=c.execute('''SELECT cl1.coname as Source,cl2.coname as Target, count(*) FROM codirs AS cd1\n",
    "                        LEFT JOIN codirs AS cd2 JOIN companieslite as cl1 JOIN companieslite as cl2\n",
    "                        ON cd1.dirnum = cd2.dirnum and cd1.conum=cl1.conum and cd2.conum=cl2.conum\n",
    "                        WHERE cd1.conum < cd2.conum GROUP BY Source,Target HAVING COUNT(*)>1''')\n",
    "import csv\n",
    "with open('output1.csv', 'wb') as f:\n",
    "    writer = csv.writer(f)\n",
    "    writer.writerow(['Source', 'Target'])\n",
    "    writer.writerows(data)\n",
    "    \n",
    "data= c.execute('''SELECT cl1.coname as c1,cl2.coname as c2 FROM codirs AS cd1\n",
    "                        LEFT JOIN codirs AS cd2 JOIN singlecos as cl1 JOIN singlecos as cl2\n",
    "                        ON cd1.dirnum = cd2.dirnum and cd1.conum=cl1.conum and cd2.conum=cl2.conum\n",
    "                        WHERE cd1.conum < cd2.conum''')\n",
    "with open('output1.csv', 'ab') as f:\n",
    "    writer = csv.writer(f)\n",
    "    writer.writerows(data)"
   ]
  },
  {
   "cell_type": "code",
   "execution_count": 119,
   "metadata": {
    "collapsed": false
   },
   "outputs": [],
   "source": [
    "data=c.execute('''SELECT cl.coname as Source,dl.dirname as Target, count(*) FROM codirs AS cd\n",
    "                JOIN companieslite as cl\n",
    "                JOIN directorslite as dl ON cd.dirnum = dl.dirnum and cd.conum=cl.conum''')\n",
    "import csv\n",
    "with open('output2.csv', 'wb') as f:\n",
    "    writer = csv.writer(f)\n",
    "    writer.writerow(['Source', 'Target'])\n",
    "    writer.writerows(data)\n"
   ]
  },
  {
   "cell_type": "code",
   "execution_count": null,
   "metadata": {
    "collapsed": false
   },
   "outputs": [],
   "source": [
    "for u in c.execute(''' select cd.dirname as cl.coname join directorslite as d join companieslite as cl on \n",
    "        cd.dirnum=d.dirum and cd.conum=cl.conum where  '''):print(u)"
   ]
  },
  {
   "cell_type": "code",
   "execution_count": 170,
   "metadata": {
    "collapsed": false
   },
   "outputs": [],
   "source": [
    "import networkx as nx\n",
    "\n",
    "G=nx.Graph()\n",
    "\n",
    "data=c.execute('''SELECT cl.conum as cid, cl.coname as cn, dl.dirnum as did, dl.dirname as dn\n",
    "FROM codirs AS cd JOIN companieslite as cl JOIN directorslite as dl ON cd.dirnum = dl.dirnum and cd.conum=cl.conum ''')\n",
    "for d in data:\n",
    "    G.add_node(d[0], Label=d[1])\n",
    "    G.add_node(d[2], Label=d[3])\n",
    "    G.add_edge(d[0],d[2])\n",
    "nx.write_gexf(G, \"deepPurple.gexf\")"
   ]
  },
  {
   "cell_type": "code",
   "execution_count": 47,
   "metadata": {
    "collapsed": false
   },
   "outputs": [
    {
     "data": {
      "text/plain": [
       "[u'04005803',\n",
       " u'08809035',\n",
       " u'SC001731',\n",
       " u'w7rPZmLX1Kq10noDl-0nY7Xwctg',\n",
       " u'ZC000201',\n",
       " u'oDC8fOOaXjgQ5cGdnQrjJvnOfgw',\n",
       " u'02071638',\n",
       " u'08124892',\n",
       " u'5gDEeqcRYtXLlu4OExETJCmiSYA',\n",
       " u'06930140',\n",
       " u'Kw6ZC_Fk6J4kr3Ws7qkU3cOQR-s',\n",
       " u'07898613',\n",
       " u'06675840',\n",
       " u'04299687',\n",
       " u'07899149',\n",
       " u'03868390',\n",
       " u'co2na_Q0pmr0QeLgO6pQrekbWdM',\n",
       " u'04049010',\n",
       " u'04326560',\n",
       " u'06955383',\n",
       " u'r3SnJW5li6I829bctvw-er4O0v8',\n",
       " u'09150715',\n",
       " u'03279074',\n",
       " u'02778481',\n",
       " u'w1qOvSziLFFQyKiSimy0GRHqX5g',\n",
       " u'5FWxIlOPARIx-1fkWUR21wnuNPQ',\n",
       " u'07541787',\n",
       " u'05114014',\n",
       " u'-V6DT09dCnU-oV-cF2b5Q6AyCTA',\n",
       " u'07879081',\n",
       " u'H7vizJ3kXpJRRWnDkVels5Oo78M',\n",
       " u'SC418144',\n",
       " u's0UVAKHvRcga63Vm6BAYrCb-xcM',\n",
       " u'07254495',\n",
       " u'iKj9-xgWvlLwZT8FV2RyPbmC6PM',\n",
       " u'DvLVvNIKHQWUG_fdnYtvb06dPjc',\n",
       " u'cHTjveo0S8VcXeNdKPETVpsuopA',\n",
       " u'02820162',\n",
       " u'06640309',\n",
       " u'cjWQMbx_qOQ3zZD9FAdI-a_NGBc',\n",
       " u'IJzxdKXbQ4Q5kqLf8gjbDbC7ZDU',\n",
       " u'08059425',\n",
       " u'01702397',\n",
       " u'03998722',\n",
       " u'06239871',\n",
       " u'07435679',\n",
       " u'04185635',\n",
       " u'02798901',\n",
       " u'02724038',\n",
       " u'01293566',\n",
       " u'DaCx_5Bmgji8Ddyi7vDAkcn2m2s',\n",
       " u'kuNJC6I_QAccvfVCM85fTCukWps',\n",
       " u'G7gqpSKLAfgYVFGFQtS3lzDIOA4',\n",
       " u'08728902',\n",
       " u'01124831',\n",
       " u'02234775',\n",
       " u'Uwasi6os8EhRaAHidUPFA9PLfjA',\n",
       " u'04418245',\n",
       " u'2ulUwWQC8nh_YewGeQM9H8gm-bs',\n",
       " u'04839093',\n",
       " u'mw1Xr4dSuttJ2JXUiaG0iM8uOc4',\n",
       " u'00113496',\n",
       " u'10084743',\n",
       " u'OL0ribSQUb2_i5aVJbPqA70-eN8',\n",
       " u'06091123',\n",
       " u'03097410',\n",
       " u'01103760',\n",
       " u'01028964',\n",
       " u'g2a71tpEHPGJ2ITNQr8uvdnEQCg',\n",
       " u'2OpfChG0vkQBLtkkuLzxXR4S6yI',\n",
       " u'mEt1le0vDnztobMzo4aBC5Mfc6E',\n",
       " u'04085116',\n",
       " u'09382548',\n",
       " u'04350497',\n",
       " u'q7UBCkSm-X_XyZwuv1sbCo43088',\n",
       " u'IBa5r7tVd028h2Bo4HFZESlnooM',\n",
       " u'07735969',\n",
       " u'gOE52IOddOfsHQTbUTU325KVa_4',\n",
       " u'jsOg3ANMDUEWi7jUEKofw3vUW74',\n",
       " u'qCVjJWrb9UGzoiklMGdJjkHBvrA',\n",
       " u'hTShWuOVSozuXxHnvPbf9hzQqWU',\n",
       " u'X-HbmfKdmaxMMpIP9ntKCl9MkIU',\n",
       " u'02461391',\n",
       " u'RBFEm2Y5EEnhfalVzA-IKChnG2s',\n",
       " u'03686596',\n",
       " u'06953650',\n",
       " u'00039625',\n",
       " u'09138644',\n",
       " u'00938471',\n",
       " u'DQ-jvjvDknGcW8EKnrYPTCz289U',\n",
       " u'04652918',\n",
       " u'00581512',\n",
       " u'00007663',\n",
       " u'dVrkjJ0Nj_UECI88h47takC-bYY',\n",
       " u'02977996',\n",
       " u'02561024',\n",
       " u'KBT7rWVfwfx-eM-a9lJmdh3Kph0',\n",
       " u'07796675',\n",
       " u'04999927',\n",
       " u'cvc3PdlBL9ZAWFIdhSPwVgnFnR8',\n",
       " u'DsWgTXwtgHr_6NVcwnmQlHDAILc',\n",
       " u'vAmXA2N0nwjVLs23E2CydgFXUHw',\n",
       " u'05673306',\n",
       " u'02798083',\n",
       " u'05410420',\n",
       " u'ZVhGifuouM-egrlzplyEwhbQn_E',\n",
       " u'_5rShY3zVeQin133gSXOklqN6Js',\n",
       " u'09738403',\n",
       " u'OUuPUN15dFqsBPGi_eVDHXDtXFA',\n",
       " u'4SN0IiAygqMsXuPMsHtcn7vK1ik',\n",
       " u'03026582',\n",
       " u'01165367',\n",
       " u'07211219',\n",
       " u'7Br9AJ46F42aUI03Hq1kAOLz4eY',\n",
       " u'VmFW-ajENDDLgw0BwSQL-K_o9a0',\n",
       " u'jMeWDfRth6CGzXBUjIXTp0wSz5k',\n",
       " u'02845725',\n",
       " u'02375150',\n",
       " u'06389718',\n",
       " u'02366661',\n",
       " u'deIMeyNhQ-95X1h1YQ4aVy2qDUo',\n",
       " u'FC031200',\n",
       " u'04464331',\n",
       " u'02778476',\n",
       " u'C3xJSvtSgft6uqP2wODCGjF-suw',\n",
       " u'DO6pKgxay5NkT2cZTRXiNsqeO6I',\n",
       " u'09504516',\n",
       " u'07998693',\n",
       " u'05616471',\n",
       " u'03440215',\n",
       " u'08803916',\n",
       " u'06791313',\n",
       " u'1UXcv84L58lNhY77V9xjd75iDTU',\n",
       " u'CreYA4JdQ2no6r0FfS6x7NWI6PQ',\n",
       " u'01372603',\n",
       " u'04916397',\n",
       " u'04821630',\n",
       " u'r1oGRZF92SvtB_bHPpWhbrKoRV4',\n",
       " u'07922086',\n",
       " u'pyG0M6BX9alWbVyWCYpVM3q1m78',\n",
       " u'08649661',\n",
       " u'18xF8gNySd5ITsLjYy-LiuNj72o',\n",
       " u'06342867',\n",
       " u'04807399',\n",
       " u'N16i76LOZUxq6_3iCrXOwxdCcqA',\n",
       " u'NjsLNa848kqxz1P54amxyZbfzM8',\n",
       " u'07559537',\n",
       " u'iif1kPEDWvJiZ5Kdf6MKr-_dC4M',\n",
       " u'06543442',\n",
       " u'VUQINH0gDoHU5WFe4fpYCf3NwMk',\n",
       " u'06870188',\n",
       " u'6OUmZs5Rm2moGR4vXHoLxD6-hOg',\n",
       " u'-pcTg8yU1ZWuqiBYSkVxXfKfdr0',\n",
       " u'09549173',\n",
       " u'00300719',\n",
       " u'mD_nQECZI1yRkg2a8CnCnFM3XOc',\n",
       " u'03077972',\n",
       " u'SC000881',\n",
       " u'lvOI2gYTKfP3nteoLZoILJBeg-I',\n",
       " u'kbkLnx8uFBrTr8vaACF1h35Pcyw',\n",
       " u'08715609',\n",
       " u'04634869',\n",
       " u'07585313',\n",
       " u'08008725',\n",
       " u'03232863',\n",
       " u'02175146',\n",
       " u'07543596',\n",
       " u'01693875',\n",
       " u'qwVHXz0SlvZwMziWlYFPa9bG5i4',\n",
       " u'02780748',\n",
       " u'kg1qHfia18AgwGpaS4SxUGZULj4',\n",
       " u'02888946',\n",
       " u'09758047',\n",
       " u'RE_Qwr8e2QUHOxCfk49HXHk9pgY',\n",
       " u'01994847',\n",
       " u'00675444',\n",
       " u'07549600',\n",
       " u'FQCoMTtjZL8alCS4M6ex_rcYaKA',\n",
       " u'06908909',\n",
       " u'ZnOzZU27PIiqCN8U30viO1dbUXI',\n",
       " u'mXl3OWpk2op47dHDdGjr393NRx0',\n",
       " u'06963548',\n",
       " u'02912767',\n",
       " u'QJ-T39OcX_o35-TI7SgntYA4zt8',\n",
       " u'Is0KgJniZwsipe45GrjUSnlH1sg',\n",
       " u'zQ52_K720U6F5AxNXd9B3drJrq8',\n",
       " u'02661777',\n",
       " u'07088009',\n",
       " u'00796266',\n",
       " u'SC007058',\n",
       " u'03795513',\n",
       " u'xjWUqHr8W-7Mbi3JzIKltxDeLN0',\n",
       " u'07728663',\n",
       " u'08809385',\n",
       " u'05230264',\n",
       " u'Z6PfKA7hzDahg3kwtM_LJxUDUXI',\n",
       " u'XMy8RedJfssRg0ajHLFMFk1ewFI',\n",
       " u'07454813',\n",
       " u'06850674',\n",
       " u'LSmUZ1Oeyc31Wp-0JPgSXrncgBM',\n",
       " u'07599565',\n",
       " u'02709055',\n",
       " u'hwYWncDWPX0BW5Qkg6q7M7oM6Ss',\n",
       " u'08026718',\n",
       " u'06265201',\n",
       " u'05282299',\n",
       " u'09131200',\n",
       " u'03408884',\n",
       " u'03876529',\n",
       " u'05071073',\n",
       " u'07062964',\n",
       " u'thMzXmbDA6IHCPjYDkTjRnJwj64',\n",
       " u'06905282',\n",
       " u'09645450',\n",
       " u'UqB_IQrUmllJCRUl-PFhQ1ZpDFQ',\n",
       " u'fjLyauUaU2WlEufCBpAyQ-SSOrg',\n",
       " u'02476019',\n",
       " u'03404450',\n",
       " u'sQ-6NwbXwjLUM9qqVh4qtBRywxY',\n",
       " u'03217426',\n",
       " u'eBAga0oDVaSf4gGKysfoMGw-0_s',\n",
       " u'08803858',\n",
       " u'03871123',\n",
       " u'03514783',\n",
       " u'07631425',\n",
       " u'sQp8r8sUCkczzegqjzdECR5-UEg',\n",
       " u'09622124',\n",
       " u'02809606',\n",
       " u'00148449',\n",
       " u'01529484',\n",
       " u'00409738',\n",
       " u'08048330',\n",
       " u'lv3qlvrBzoo8t-uvMeYgZmkWVBQ',\n",
       " u'4u0NDwVPezTJjJr4ZXVy_p50NLQ',\n",
       " u'08318061',\n",
       " u'05454828',\n",
       " u'07869426',\n",
       " u'01333367',\n",
       " u'05199719',\n",
       " u'00349201',\n",
       " u'09325665',\n",
       " u'00523335',\n",
       " u'Lf2NX6tZoYsSNxvi5bmmCK9TdGU',\n",
       " u'K0A9qrfwRO8WddhMT82lSWCr74E',\n",
       " u'07894894',\n",
       " u'04779029',\n",
       " u'o5CqYB5YJYI0gr0AcjI-VmQjYSY',\n",
       " u'f55O6_D4ltMELvKyXSeyMvWEvzc',\n",
       " u'04297905',\n",
       " u'lKqjMQnANYfj-hzBu2vXafa8vcc',\n",
       " u'08803924',\n",
       " u'r9Qv8g36LqC11HFV9BlkBxjLsBI',\n",
       " u'00368657',\n",
       " u'JCgSuG9fERVutepLXP68jYXRwVU',\n",
       " u'08555610',\n",
       " u'01470013',\n",
       " u'02259161',\n",
       " u'01163430',\n",
       " u'02240496',\n",
       " u'TQd1yfo6oHP8iptWrGog9S44zJk',\n",
       " u'04015609',\n",
       " u'C2Wf6GzZIusaF1Lqr-A4NzG9JZs',\n",
       " u'05303883',\n",
       " u'03142051',\n",
       " u'08776368',\n",
       " u'01999298',\n",
       " u'04717890',\n",
       " u'Bjlt4y8L415SUVJYyRihCEu-JKQ',\n",
       " u'05065574',\n",
       " u'06170576',\n",
       " u'06919051',\n",
       " u'SC440964',\n",
       " u'09861442',\n",
       " u'KSvhk2OaPK40zK39X1P3-6oEqQ4',\n",
       " u'zV0yWVeM2pZvwiFhpKir4a5wNoU',\n",
       " u'00095154',\n",
       " u'jHjqS-4I4FxMpXNZl2HuSHleTZU',\n",
       " u'03343345',\n",
       " u'00192018',\n",
       " u'04059497',\n",
       " u'TS6fL8r0Ykvja0GS3jAWXhQUncU',\n",
       " u'08156807',\n",
       " u'lCPBklpogZx0CNeuhu_lXHZunSk',\n",
       " u'Pt1yrAq_IxK23F6hTFNmKLxJeW0',\n",
       " u'08751191',\n",
       " u'heWL2VrvE0Cl-vpLupT7FJb6xiI',\n",
       " u'00947714',\n",
       " u'6FQ0mDdA3RpQH2afZkvKv_Zme-k',\n",
       " u'03616485',\n",
       " u'06595861',\n",
       " u'_9386tc_i271rXCtJOxg4ZA3CJY',\n",
       " u'06212242',\n",
       " u't8Lr452CyYLtFNsDaUZ4g_vWH2s',\n",
       " u'00137552',\n",
       " u'DJaqov2vGT5b1OUjilMhJMJwiQI',\n",
       " u'06619694',\n",
       " u'04827757',\n",
       " u'J_ePeBNzhLmv6Lc7-FKj9s_HS1k',\n",
       " u'zj_LO2R0n2Yk_xO72FX6FPuifEE',\n",
       " u'01402643',\n",
       " u'dYZybc4VV0fZGADO6pTmi6xJ68o',\n",
       " u'02470260',\n",
       " u'07643795',\n",
       " u'00173199',\n",
       " u'8prX8GdJKVCS0XGFnX9j7iRjhxE',\n",
       " u'xG1qBjdziEqFclTd_cf4S8bmCoU',\n",
       " u's5bVPMfEBNpUnOQ6lvqiHMLCJWU',\n",
       " u'k6nvNLWgK7FsvmPO_1XFyFeFEYc',\n",
       " u'mlKkjEDJVVgZGJ_y-0WvKbmNMUo',\n",
       " u'07528857',\n",
       " u'modBPseItEKDAp_Fx1Al-6GGVKU',\n",
       " u'00145990',\n",
       " u'01396429',\n",
       " u'g_OqHbcaQDQSqvdYlp_ljAahnz8',\n",
       " u'KpAF31c8sADpjzI_Q9_WJ9B4f5I',\n",
       " u'V2SnMXZmFMnqLw7qQAIsP5G8N2U',\n",
       " u'03411540',\n",
       " u'09800044',\n",
       " u'04232151',\n",
       " u'04244715',\n",
       " u'05975733',\n",
       " u'09685009',\n",
       " u'05927008',\n",
       " u'03ofu06V1nUIvUCe8sR3YM6i8e8',\n",
       " u'04439859',\n",
       " u'maPcw9LQ2qLydHJfOYyTKFrSZWo',\n",
       " u'wODIS_E6AEfEWJuAezT5L4ExmUk',\n",
       " u'09621250',\n",
       " u'00018582',\n",
       " u'03307102',\n",
       " u'6F0Q0pLFd6JEfhlro4_aYsYNpxI',\n",
       " u'zCaY7EVwl_vsoO0-syuYGSIPlYk',\n",
       " u'MIXhjpBtXN8zax39fluLnYVJpoc',\n",
       " u'04961223',\n",
       " u'mG6I2ezIwfRM_YFMGiW2WKRuSyk',\n",
       " u'g5se8VMhoOjrUyRY4HVwO__Oq14',\n",
       " u'02336568',\n",
       " u'A_-B91wZRmhM2oVNDu0yCV32Y4o',\n",
       " u'03055913',\n",
       " u'4w0FE2p-YnNA30tgIL02XHbXmfg',\n",
       " u'Ailfe6WfY5PRJ8ArIR7nXgm4_-A',\n",
       " u'02322037',\n",
       " u'J1nvgrjI9QVFqZLfoVp198y4iPQ',\n",
       " u'pZurdGWkFu0TBfPGgy7CGtWGobk',\n",
       " u'07503948',\n",
       " u'29Ku-dBWBSK0FZXB76I1EB4Q3FM',\n",
       " u'SC367451',\n",
       " u'00552847',\n",
       " u'05035628',\n",
       " u'01578956',\n",
       " u'NgcMqoXAkAJvQ2_DgDGj8cix4lg',\n",
       " u'06005752',\n",
       " u'04245883',\n",
       " u'05187120',\n",
       " u'02008246',\n",
       " u'bDiTf5Wpof68-KWu6UgT4lT1Sxg',\n",
       " u'rejFwrHqtemkKWiF5vhcMBNX6Pc',\n",
       " u'UuzyP6N32SQzFphmfI8cVZClY1s',\n",
       " u'06587893',\n",
       " u'05834708',\n",
       " u'6gAcdE0dBZ29mO20S61tLnFRbu4',\n",
       " u'04279651',\n",
       " u'QMRlfOjazRrdaH3GVzNxyJR9XqM',\n",
       " u'02520413',\n",
       " u'09605966',\n",
       " u'01531377',\n",
       " u'VG0q41Dd_9X32T093QovAe-DAZM',\n",
       " u'01286104',\n",
       " u'05973126',\n",
       " u'07700838',\n",
       " u'01188087',\n",
       " u'06055271',\n",
       " u'5KsUCUSd9dp89a4dinphoNhQk6k',\n",
       " u'a42nJV0No6oJn20vbgP4KARzxLc',\n",
       " u'FCkPhmP3XCRQHEHruzErbQFBopQ',\n",
       " u'mZ2eSfE_qdJLtkldQHuIBFBfdlU',\n",
       " u'UA7hAw1hx8N7E4BEUZoqu2-BDC0',\n",
       " u'05096482',\n",
       " u'SC416620',\n",
       " u'3JOwBAZKicYLY9Or5uUReMvocuk',\n",
       " u'j1b6RWhIWqzILcQi4_0ThDWofVo',\n",
       " u'05910443',\n",
       " u'02931833',\n",
       " u'05129363',\n",
       " u'02110626',\n",
       " u'00487460',\n",
       " u'PeAVt-VHMn6f0SlC_9Kce93rF50',\n",
       " u'hqJUYav-p5CZKaOBRnskdYicVv0',\n",
       " u'flZy_uCBCzQW5wjy9hanmVSLzqU',\n",
       " u'02560474',\n",
       " u'pVWOL_1ishvA4mMBcxDFd6U36CA',\n",
       " u'08906809',\n",
       " u'07611016',\n",
       " u'06033238',\n",
       " u'7gcWHXK_8f2EGX1Seh5TtYpiOHE',\n",
       " u'03653624',\n",
       " u'hE0ncAy3IyJHR_Qeb6p_hQ4k_GQ',\n",
       " u'04144304',\n",
       " u'08081085',\n",
       " u'08072139',\n",
       " u'oViO6T2EvOxFZslUhdLIeTWln5M',\n",
       " u'gjpYfDFQPQD9rG-7m5MYBEZa8KE',\n",
       " u'03031674',\n",
       " u'NYdRBwZ4S9oXz2r9FKmQomPClSg',\n",
       " u'06455144',\n",
       " u'09289473',\n",
       " u'04274915',\n",
       " u'06330372',\n",
       " u'00225234',\n",
       " u'NsckUG2ZCN17hO3FSYo8BvSZuPE',\n",
       " u'00229959',\n",
       " u'06621189',\n",
       " u'n8iB4B_7GDNSg-u0d_LD3XQ_aMY',\n",
       " u'Ayvx-cBF-uVGH-5dHEND-lBvtNY',\n",
       " u'08803871',\n",
       " u'03736608',\n",
       " u'00465899',\n",
       " u'OXWLR4HkVdGWkoMsn1Zux3ZR4gM',\n",
       " u'rpNjcol4LbymQn2jS1VbpJ1B_2U',\n",
       " u'SPIU8ZVe4zG8ymvF_ZfWlq5pwQE',\n",
       " u'00115332',\n",
       " u'b2LTCMnaUnIZm1d3Ol_gFLZjMI8',\n",
       " u'01047838',\n",
       " u'02979061']"
      ]
     },
     "execution_count": 47,
     "metadata": {},
     "output_type": "execute_result"
    }
   ],
   "source": [
    "G.nodes()"
   ]
  },
  {
   "cell_type": "code",
   "execution_count": 54,
   "metadata": {
    "collapsed": false
   },
   "outputs": [
    {
     "name": "stdout",
     "output_type": "stream",
     "text": [
      "THE EMMANUEL SCHOOLS FOUNDATION\n",
      "ROBSON, Nigel Rhyl\n",
      "UNITED LEARNING TRUST\n"
     ]
    }
   ],
   "source": [
    "def gPath(c,G,x,y):\n",
    "    c.execute(\"SELECT c.conum FROM companieslite c WHERE c.coname=?\",[x])\n",
    "    xn=c.fetchone()\n",
    "    c.execute(\"SELECT c.conum FROM companieslite c WHERE c.coname=?\",[y])\n",
    "    yn=c.fetchone()\n",
    "    for p in nx.shortest_path(G, xn[0],yn[0]):\n",
    "        print(G.node[p]['Label'])\n",
    "    return nx.shortest_path(G, xn[0],yn[0])\n",
    "    \n",
    "path=gPath(c,G,'THE EMMANUEL SCHOOLS FOUNDATION','UNITED LEARNING TRUST')"
   ]
  },
  {
   "cell_type": "code",
   "execution_count": 34,
   "metadata": {
    "collapsed": false
   },
   "outputs": [
    {
     "name": "stdout",
     "output_type": "stream",
     "text": [
      "<gexf version=\"1.1\" xmlns=\"http://www.gexf.net/1.1draft\" xmlns:viz=\"http://www.gexf.net/1.1draft/viz\" xmlns:xsi=\"http://www.w3.org/2001/XMLSchema-instance\" xsi:schemaLocation=\"http://www.w3.org/2001/XMLSchema-instance\">\r\n",
      "  <graph defaultedgetype=\"undirected\" mode=\"static\">\r\n",
      "    <attributes class=\"node\" mode=\"static\">\r\n",
      "      <attribute id=\"0\" title=\"name\" type=\"string\" />\r\n",
      "    </attributes>\r\n",
      "    <nodes>\r\n",
      "      <node id=\"04005803\" label=\"04005803\">\r\n",
      "        <attvalues>\r\n",
      "          <attvalue for=\"0\" value=\"TAUNTON SCHOOL EDUCATIONAL CHARITY\" />\r\n",
      "        </attvalues>\r\n"
     ]
    }
   ],
   "source": [
    "!head test.gexf"
   ]
  },
  {
   "cell_type": "code",
   "execution_count": 688,
   "metadata": {
    "collapsed": false
   },
   "outputs": [
    {
     "name": "stdout",
     "output_type": "stream",
     "text": [
      "(u'eJZIFS2nbSHZkvCgtaufbJWaJ_s',)\n",
      "(u'pUbh50NYJEANkTKi9ADvWxqs22w',)\n",
      "(u'M4tn3QS93s_crb8c9UAaRr8SnA4',)\n",
      "(u'MeeK3ZOQPi2M8QSJ53tVEulX_aQ',)\n",
      "(u'7x5ydDSuaMx71HB8usAouJQpphQ',)\n",
      "(u'Bxbf_Fv1GuDBBTHbqNZRVcmKSfA',)\n"
     ]
    }
   ],
   "source": [
    "for u in c.execute('''SELECT * from coredirs'''): print(u)"
   ]
  },
  {
   "cell_type": "code",
   "execution_count": 545,
   "metadata": {
    "collapsed": false
   },
   "outputs": [
    {
     "name": "stdout",
     "output_type": "stream",
     "text": [
      "(u'szfnholtU7mzYfbeFw6sqP_mMvo', None, u'MOORE, Paul Anthony')\n",
      "(u'f15C_rkyG6KnW75E6ZUle1Ah1os', 1948, u'ALLAN, John Murray')\n",
      "(u'6LkwdoJ_Rn10_1Fqf34JHbbGI1c', 1954, u'ARMOUR, Mark Henry')\n",
      "(u'ckp4z5BSV6woEsgZDTwbwjtln4U', 1959, u'COUSINS, Richard John')\n",
      "(u'99Q3irUhqx-AIjRaITsuH0dK9xw', 1948, u'GROTE, Byron Elmer')\n",
      "(u'lRecVAOeUI710jXPzNBvhVQk8fE', 1965, u'LEWIS, David John')\n",
      "(u't77338rRl1jkPgPtSsqMekiZNJg', 1957, u'OLSSON, Anders Bertil Mikael')\n",
      "(u'KQ_-Dhro_IPanvxuKtN0qTwOtVA', 1958, u'OPPENHEIMER, Deanna Watson')\n",
      "(u'5o1GJ8yqpl1blGFV9SRohZVIIPg', 1960, u'STEWART, Alan James Harris')\n"
     ]
    }
   ],
   "source": [
    "for u in c.execute('''SELECT * from directorslite'''): print(u)"
   ]
  },
  {
   "cell_type": "code",
   "execution_count": 155,
   "metadata": {
    "collapsed": false
   },
   "outputs": [
    {
     "name": "stdout",
     "output_type": "stream",
     "text": [
      "(u'05202976', u'active', u'RED BULL TECHNOLOGY LIMITED')\n",
      "(u'03120645', u'active', u'RED BULL RACING LIMITED')\n"
     ]
    }
   ],
   "source": [
    "for u in c.execute('''SELECT * from companieslite'''): print(u)"
   ]
  },
  {
   "cell_type": "code",
   "execution_count": 88,
   "metadata": {
    "collapsed": false
   },
   "outputs": [
    {
     "name": "stdout",
     "output_type": "stream",
     "text": [
      "(u'06351418', u'FWFjfth2pDDz9yCzltK3QgylN00', u'current', u'director')\n",
      "(u'03070534', u'FWFjfth2pDDz9yCzltK3QgylN00', u'current', u'director')\n",
      "(u'05133392', u'FWFjfth2pDDz9yCzltK3QgylN00', u'current', u'director')\n",
      "(u'05396112', u'FWFjfth2pDDz9yCzltK3QgylN00', u'current', u'director')\n",
      "(u'07068440', u'FWFjfth2pDDz9yCzltK3QgylN00', u'current', u'director')\n",
      "(u'07034809', u'FWFjfth2pDDz9yCzltK3QgylN00', u'current', u'director')\n",
      "(u'07034840', u'FWFjfth2pDDz9yCzltK3QgylN00', u'current', u'director')\n",
      "(u'06869216', u'FWFjfth2pDDz9yCzltK3QgylN00', u'current', u'director')\n",
      "(u'06715745', u'FWFjfth2pDDz9yCzltK3QgylN00', u'current', u'director')\n",
      "(u'06574249', u'FWFjfth2pDDz9yCzltK3QgylN00', u'current', u'director')\n",
      "(u'05744532', u'FWFjfth2pDDz9yCzltK3QgylN00', u'current', u'director')\n",
      "(u'03062301', u'FWFjfth2pDDz9yCzltK3QgylN00', u'current', u'director')\n",
      "(u'04992338', u'FWFjfth2pDDz9yCzltK3QgylN00', u'current', u'director')\n",
      "(u'04992360', u'FWFjfth2pDDz9yCzltK3QgylN00', u'current', u'director')\n",
      "(u'04992344', u'FWFjfth2pDDz9yCzltK3QgylN00', u'current', u'director')\n",
      "(u'04992369', u'FWFjfth2pDDz9yCzltK3QgylN00', u'current', u'director')\n",
      "(u'03800854', u'FWFjfth2pDDz9yCzltK3QgylN00', u'current', u'director')\n",
      "(u'04975889', u'FWFjfth2pDDz9yCzltK3QgylN00', u'current', u'director')\n",
      "(u'04879606', u'FWFjfth2pDDz9yCzltK3QgylN00', u'current', u'director')\n",
      "(u'03889444', u'FWFjfth2pDDz9yCzltK3QgylN00', u'current', u'director')\n",
      "(u'03828461', u'FWFjfth2pDDz9yCzltK3QgylN00', u'current', u'director')\n",
      "(u'03446418', u'FWFjfth2pDDz9yCzltK3QgylN00', u'current', u'director')\n",
      "(u'03214961', u'FWFjfth2pDDz9yCzltK3QgylN00', u'current', u'director')\n",
      "(u'03208151', u'FWFjfth2pDDz9yCzltK3QgylN00', u'current', u'director')\n",
      "(u'03156233', u'FWFjfth2pDDz9yCzltK3QgylN00', u'current', u'director')\n",
      "(u'03020708', u'FWFjfth2pDDz9yCzltK3QgylN00', u'current', u'director')\n",
      "(u'03020706', u'FWFjfth2pDDz9yCzltK3QgylN00', u'current', u'director')\n",
      "(u'02910460', u'FWFjfth2pDDz9yCzltK3QgylN00', u'current', u'director')\n",
      "(u'02678548', u'FWFjfth2pDDz9yCzltK3QgylN00', u'current', u'director')\n",
      "(u'02676291', u'FWFjfth2pDDz9yCzltK3QgylN00', u'current', u'director')\n",
      "(u'02021209', u'FWFjfth2pDDz9yCzltK3QgylN00', u'current', u'director')\n",
      "(u'03070534', u'Z-Vr4LP41P72ekah-yOsTIS-jh0', u'current', u'director')\n",
      "(u'NI003706', u'Z-Vr4LP41P72ekah-yOsTIS-jh0', u'current', u'director')\n",
      "(u'NI003281', u'Z-Vr4LP41P72ekah-yOsTIS-jh0', u'current', u'director')\n",
      "(u'03070534', u'gG91E4OyIQsm5OL47HO0ckzN8cU', u'current', u'director')\n",
      "(u'03070534', u'Ihwig5Ej4NM_x7082KP_Qsr3hRo', u'current', u'director')\n",
      "(u'05396112', u'Ihwig5Ej4NM_x7082KP_Qsr3hRo', u'current', u'director')\n",
      "(u'03070534', u'1EvZgRrRanlqnysbZzsmhzoSI9Y', u'current', u'director')\n",
      "(u'03800854', u'1EvZgRrRanlqnysbZzsmhzoSI9Y', u'current', u'director')\n",
      "(u'05396112', u'wSRgNmj0f__ehr7M9iqP_xeONwo', u'current', u'director')\n",
      "(u'03070534', u'wSRgNmj0f__ehr7M9iqP_xeONwo', u'current', u'director')\n",
      "(u'02547860', u'wSRgNmj0f__ehr7M9iqP_xeONwo', u'current', u'director')\n",
      "(u'06698410', u'wSRgNmj0f__ehr7M9iqP_xeONwo', u'current', u'director')\n",
      "(u'05655959', u'wSRgNmj0f__ehr7M9iqP_xeONwo', u'current', u'director')\n",
      "(u'04954639', u'wSRgNmj0f__ehr7M9iqP_xeONwo', u'current', u'director')\n",
      "(u'00804350', u'wSRgNmj0f__ehr7M9iqP_xeONwo', u'current', u'director')\n",
      "(u'03800854', u'CWpugFUAG7yDEdFIydfGPtCZvLo', u'current', u'director')\n",
      "(u'03070534', u'CWpugFUAG7yDEdFIydfGPtCZvLo', u'current', u'director')\n",
      "(u'03070534', u'm0u6ODP-4N4hOeqWnuOyYx2j0Rw', u'current', u'director')\n",
      "(u'06187157', u'm0u6ODP-4N4hOeqWnuOyYx2j0Rw', u'current', u'director')\n",
      "(u'05726478', u'm0u6ODP-4N4hOeqWnuOyYx2j0Rw', u'current', u'director')\n",
      "(u'07649183', u'24iAQaXzH43CQkdE0Z8brOvOurk', u'current', u'director')\n",
      "(u'03070534', u'24iAQaXzH43CQkdE0Z8brOvOurk', u'current', u'director')\n",
      "(u'05396112', u'24iAQaXzH43CQkdE0Z8brOvOurk', u'current', u'director')\n",
      "(u'08740498', u'24iAQaXzH43CQkdE0Z8brOvOurk', u'current', u'director')\n",
      "(u'03070534', u'7EXj7cWsNcPjKtaVT3S5G7OPxIY', u'current', u'director')\n",
      "(u'05396112', u'7EXj7cWsNcPjKtaVT3S5G7OPxIY', u'current', u'director')\n",
      "(u'09344753', u'7EXj7cWsNcPjKtaVT3S5G7OPxIY', u'current', u'director')\n",
      "(u'08798003', u'7EXj7cWsNcPjKtaVT3S5G7OPxIY', u'current', u'director')\n",
      "(u'03800854', u'GrguwnaYbGqJxAE5zliwl0xa7gg', u'current', u'director')\n",
      "(u'03070534', u'GrguwnaYbGqJxAE5zliwl0xa7gg', u'current', u'director')\n",
      "(u'05396112', u'GrguwnaYbGqJxAE5zliwl0xa7gg', u'current', u'director')\n",
      "(u'SC099128', u'GrguwnaYbGqJxAE5zliwl0xa7gg', u'current', u'director')\n",
      "(u'03070534', u'BJkVzQw4ttDcA7Dmx9n5j03er0o', u'current', u'director')\n",
      "(u'05396112', u'BJkVzQw4ttDcA7Dmx9n5j03er0o', u'current', u'director')\n",
      "(u'03800854', u'BJkVzQw4ttDcA7Dmx9n5j03er0o', u'current', u'director')\n",
      "(u'05396112', u'BC8UCdqubrFObQ50DZ9GIK71awM', u'current', u'director')\n",
      "(u'03070534', u'BC8UCdqubrFObQ50DZ9GIK71awM', u'current', u'director')\n",
      "(u'09711371', u'ugWyfLuVSgxcP-ZFvSn0plO541Y', u'current', u'director')\n",
      "(u'02390752', u'ugWyfLuVSgxcP-ZFvSn0plO541Y', u'current', u'director')\n",
      "(u'02683838', u'ugWyfLuVSgxcP-ZFvSn0plO541Y', u'current', u'director')\n",
      "(u'00966771', u'ugWyfLuVSgxcP-ZFvSn0plO541Y', u'current', u'director')\n",
      "(u'05246427', u'ugWyfLuVSgxcP-ZFvSn0plO541Y', u'current', u'director')\n",
      "(u'00516639', u'ugWyfLuVSgxcP-ZFvSn0plO541Y', u'current', u'director')\n",
      "(u'05133392', u'ugWyfLuVSgxcP-ZFvSn0plO541Y', u'current', u'director')\n",
      "(u'06457364', u'ugWyfLuVSgxcP-ZFvSn0plO541Y', u'current', u'director')\n",
      "(u'06673694', u'ugWyfLuVSgxcP-ZFvSn0plO541Y', u'current', u'director')\n",
      "(u'06393412', u'ugWyfLuVSgxcP-ZFvSn0plO541Y', u'current', u'director')\n",
      "(u'01344829', u'ugWyfLuVSgxcP-ZFvSn0plO541Y', u'current', u'director')\n",
      "(u'03062301', u'k8OlWejMuSuiQrkgDTIbsMamc_0', u'current', u'director')\n",
      "(u'05781002', u'k8OlWejMuSuiQrkgDTIbsMamc_0', u'current', u'director')\n",
      "(u'00134679', u'k8OlWejMuSuiQrkgDTIbsMamc_0', u'current', u'director')\n",
      "(u'01744638', u'k8OlWejMuSuiQrkgDTIbsMamc_0', u'current', u'director')\n",
      "(u'03062301', u'sHXXj23zSuB1h-FzrEM3AdMUi5Q', u'current', u'director')\n",
      "(u'03800854', u'FqQCn13ynlwrqK3AKe_BRROz17w', u'current', u'director')\n",
      "(u'06195210', u'RoeoSTnVRtL1AP0_WIR7dMa-iss', u'current', u'director')\n",
      "(u'06195213', u'RoeoSTnVRtL1AP0_WIR7dMa-iss', u'current', u'director')\n",
      "(u'06250998', u'RoeoSTnVRtL1AP0_WIR7dMa-iss', u'current', u'director')\n",
      "(u'06251063', u'RoeoSTnVRtL1AP0_WIR7dMa-iss', u'current', u'director')\n",
      "(u'09282450', u'RoeoSTnVRtL1AP0_WIR7dMa-iss', u'current', u'director')\n",
      "(u'08333709', u'RoeoSTnVRtL1AP0_WIR7dMa-iss', u'current', u'director')\n",
      "(u'07559720', u'RoeoSTnVRtL1AP0_WIR7dMa-iss', u'current', u'director')\n",
      "(u'06979438', u'RoeoSTnVRtL1AP0_WIR7dMa-iss', u'current', u'director')\n",
      "(u'03699583', u'RoeoSTnVRtL1AP0_WIR7dMa-iss', u'current', u'director')\n",
      "(u'04975889', u'RoeoSTnVRtL1AP0_WIR7dMa-iss', u'current', u'director')\n",
      "(u'04305069', u'RoeoSTnVRtL1AP0_WIR7dMa-iss', u'current', u'director')\n",
      "(u'03266820', u'RoeoSTnVRtL1AP0_WIR7dMa-iss', u'current', u'director')\n",
      "(u'03110569', u'RoeoSTnVRtL1AP0_WIR7dMa-iss', u'current', u'director')\n"
     ]
    }
   ],
   "source": [
    "for u in c.execute('''SELECT * from codirs'''): print(u)"
   ]
  },
  {
   "cell_type": "code",
   "execution_count": 574,
   "metadata": {
    "collapsed": false
   },
   "outputs": [
    {
     "data": {
      "text/plain": [
       "[u'02298419',\n",
       " u'02324094',\n",
       " u'02834529',\n",
       " u'03471126',\n",
       " u'03664571',\n",
       " u'04007730',\n",
       " u'06617598',\n",
       " u'07073195',\n",
       " u'09248309',\n",
       " u'NF004128',\n",
       " u'SC501980']"
      ]
     },
     "execution_count": 574,
     "metadata": {},
     "output_type": "execute_result"
    }
   ],
   "source": [
    "duels=c.execute('''SELECT cd.conum as c1,cl.coname as cn, count(*) FROM codirs as cd JOIN companieslite as cl \n",
    "                         WHERE cd.conum= cl.conum GROUP BY c1,cn HAVING COUNT(*)=1\n",
    "                        ''')\n",
    "[x for t in duels for x in t[:1]]"
   ]
  },
  {
   "cell_type": "code",
   "execution_count": 779,
   "metadata": {
    "collapsed": false
   },
   "outputs": [
    {
     "name": "stdout",
     "output_type": "stream",
     "text": [
      "(u'1Ogl5BMpeIh3mMr0L9SAPmVXGL0',)\n",
      "(u'R5DDeApFVPK6yCeA6K0tUlvRn_Y',)\n",
      "(u'eJZIFS2nbSHZkvCgtaufbJWaJ_s',)\n",
      "(u'Bp0ZKnlgPMkXgTaGH-64iDbsiwc',)\n",
      "(u'P-6bXgs3tIwG125MlTxwPXq-Dr8',)\n",
      "(u'pUbh50NYJEANkTKi9ADvWxqs22w',)\n",
      "(u'M4tn3QS93s_crb8c9UAaRr8SnA4',)\n",
      "(u'MeeK3ZOQPi2M8QSJ53tVEulX_aQ',)\n",
      "(u'7x5ydDSuaMx71HB8usAouJQpphQ',)\n",
      "(u'Bxbf_Fv1GuDBBTHbqNZRVcmKSfA',)\n",
      "(u'1Ogl5BMpeIh3mMr0L9SAPmVXGL0',)\n",
      "(u'R5DDeApFVPK6yCeA6K0tUlvRn_Y',)\n",
      "(u'eJZIFS2nbSHZkvCgtaufbJWaJ_s',)\n",
      "(u'Bp0ZKnlgPMkXgTaGH-64iDbsiwc',)\n",
      "(u'P-6bXgs3tIwG125MlTxwPXq-Dr8',)\n",
      "(u'pUbh50NYJEANkTKi9ADvWxqs22w',)\n",
      "(u'M4tn3QS93s_crb8c9UAaRr8SnA4',)\n",
      "(u'MeeK3ZOQPi2M8QSJ53tVEulX_aQ',)\n",
      "(u'7x5ydDSuaMx71HB8usAouJQpphQ',)\n",
      "(u'Bxbf_Fv1GuDBBTHbqNZRVcmKSfA',)\n",
      "(u'A9j3-RX5cCIL17ThB6qFoUF3o9U',)\n",
      "(u'HjbmjWXbG2NcwvpiX4NkXDwqajU',)\n",
      "(u'K5y4fJVG_tr5ZZrTwTBX0L30CBg',)\n",
      "(u'qyI4p8BQhdG2cYJg0PWgdUFCjnQ',)\n",
      "(u'spI8-SMbOF96rmr2RR5v_J3cJdQ',)\n",
      "(u'FUtcrbinZ6I0ZRdvk0O1A9LUp64',)\n",
      "(u'7SaFM9AuCxTCK0IBPxjm-0Axv2c',)\n",
      "(u'LY09KNpILZcq5X1xxm3ih_qsh2Q',)\n",
      "(u'2C81RT3ixhyXCwOnWFZWPu0Wcao',)\n",
      "(u'Uq0fKk-3ayHu6tU3yWP6wnL9wBE',)\n"
     ]
    }
   ],
   "source": [
    "for u in c.execute('''select dirnum from coredirs'''):print(u)"
   ]
  },
  {
   "cell_type": "code",
   "execution_count": 691,
   "metadata": {
    "collapsed": false
   },
   "outputs": [
    {
     "name": "stdout",
     "output_type": "stream",
     "text": [
      "(u'eJZIFS2nbSHZkvCgtaufbJWaJ_s', u'03221606')\n",
      "(u'eJZIFS2nbSHZkvCgtaufbJWaJ_s', u'03221926')\n",
      "(u'eJZIFS2nbSHZkvCgtaufbJWaJ_s', u'03221613')\n",
      "(u'eJZIFS2nbSHZkvCgtaufbJWaJ_s', u'03221609')\n",
      "(u'eJZIFS2nbSHZkvCgtaufbJWaJ_s', u'08877980')\n",
      "(u'eJZIFS2nbSHZkvCgtaufbJWaJ_s', u'08324083')\n",
      "(u'eJZIFS2nbSHZkvCgtaufbJWaJ_s', u'04461492')\n",
      "(u'eJZIFS2nbSHZkvCgtaufbJWaJ_s', u'04087160')\n",
      "(u'eJZIFS2nbSHZkvCgtaufbJWaJ_s', u'04461493')\n",
      "(u'eJZIFS2nbSHZkvCgtaufbJWaJ_s', u'03779976')\n",
      "(u'eJZIFS2nbSHZkvCgtaufbJWaJ_s', u'04594014')\n",
      "(u'eJZIFS2nbSHZkvCgtaufbJWaJ_s', u'03825045')\n",
      "(u'eJZIFS2nbSHZkvCgtaufbJWaJ_s', u'01260275')\n",
      "(u'eJZIFS2nbSHZkvCgtaufbJWaJ_s', u'02995193')\n",
      "(u'eJZIFS2nbSHZkvCgtaufbJWaJ_s', u'03030735')\n",
      "(u'pUbh50NYJEANkTKi9ADvWxqs22w', u'01260275')\n",
      "(u'M4tn3QS93s_crb8c9UAaRr8SnA4', u'08324083')\n",
      "(u'M4tn3QS93s_crb8c9UAaRr8SnA4', u'01260275')\n",
      "(u'MeeK3ZOQPi2M8QSJ53tVEulX_aQ', u'01260275')\n",
      "(u'MeeK3ZOQPi2M8QSJ53tVEulX_aQ', u'08324083')\n",
      "(u'7x5ydDSuaMx71HB8usAouJQpphQ', u'01260275')\n",
      "(u'Bxbf_Fv1GuDBBTHbqNZRVcmKSfA', u'01260275')\n"
     ]
    }
   ],
   "source": [
    "for u in c.execute('''select dirnum,conum from codirs'''):print(u)"
   ]
  },
  {
   "cell_type": "code",
   "execution_count": 90,
   "metadata": {
    "collapsed": false
   },
   "outputs": [],
   "source": [
    "for u in c.execute('''SELECT * FROM singlecos'''):print(u)"
   ]
  },
  {
   "cell_type": "code",
   "execution_count": 694,
   "metadata": {
    "collapsed": false
   },
   "outputs": [
    {
     "name": "stdout",
     "output_type": "stream",
     "text": [
      "(u'02995193', u'OPEN UNIVERSITY BUSINESS SCHOOL LIMITED')\n",
      "(u'03030735', u'OPEN UNIVERSITY STUDENT BUDGET ACCOUNTS LIMITED')\n",
      "(u'03221606', u'WORLDWIDE OPEN UNIVERSITY LTD')\n",
      "(u'03221609', u'OPEN UNIVERSITY EDUCATIONAL ENTERPRISES LIMITED')\n",
      "(u'03221613', u'OPEN UNIVERSITY INTERNATIONAL LTD')\n",
      "(u'03221926', u'OPEN UNIVERSITY WORLDWIDE LEARNING LTD')\n",
      "(u'03779976', u'BLOXHAM SCHOOL LIMITED')\n",
      "(u'03825045', u'BOOKHIRE LIMITED')\n",
      "(u'04087160', u'OU PROPERTIES (BRISTOL) LIMITED')\n",
      "(u'04461492', u'OPEN UNIVERSITY ENTERPRISES LIMITED')\n",
      "(u'04461493', u'OU PROPERTIES (WALTON DRIVE) LIMITED')\n",
      "(u'04594014', u'OUEB LIMITED')\n",
      "(u'08877980', u'GREEN & CHAMBERS LEGAL LIMITED')\n"
     ]
    }
   ],
   "source": [
    "for u in c.execute('''SELECT c.conum as cn, c.coname as cna FROM\n",
    "codirs as cd JOIN companieslite as c WHERE c.conum=cd.conum and cd.dirnum in (select dirnum from coredirs) GROUP BY cn,cna HAVING COUNT(*)=1 '''):print(u)"
   ]
  },
  {
   "cell_type": "code",
   "execution_count": 486,
   "metadata": {
    "collapsed": false
   },
   "outputs": [
    {
     "name": "stdout",
     "output_type": "stream",
     "text": [
      "(u'03221606', u'eJZIFS2nbSHZkvCgtaufbJWaJ_s', u'current', u'director')\n",
      "(u'03221926', u'eJZIFS2nbSHZkvCgtaufbJWaJ_s', u'current', u'director')\n",
      "(u'03221613', u'eJZIFS2nbSHZkvCgtaufbJWaJ_s', u'current', u'director')\n",
      "(u'03221609', u'eJZIFS2nbSHZkvCgtaufbJWaJ_s', u'current', u'director')\n",
      "(u'08877980', u'eJZIFS2nbSHZkvCgtaufbJWaJ_s', u'current', u'director')\n",
      "(u'08324083', u'eJZIFS2nbSHZkvCgtaufbJWaJ_s', u'current', u'director')\n",
      "(u'04461492', u'eJZIFS2nbSHZkvCgtaufbJWaJ_s', u'current', u'director')\n",
      "(u'04087160', u'eJZIFS2nbSHZkvCgtaufbJWaJ_s', u'current', u'director')\n",
      "(u'04461493', u'eJZIFS2nbSHZkvCgtaufbJWaJ_s', u'current', u'director')\n",
      "(u'03779976', u'eJZIFS2nbSHZkvCgtaufbJWaJ_s', u'current', u'director')\n",
      "(u'04594014', u'eJZIFS2nbSHZkvCgtaufbJWaJ_s', u'current', u'director')\n",
      "(u'03825045', u'eJZIFS2nbSHZkvCgtaufbJWaJ_s', u'current', u'director')\n",
      "(u'01260275', u'eJZIFS2nbSHZkvCgtaufbJWaJ_s', u'current', u'director')\n",
      "(u'02995193', u'eJZIFS2nbSHZkvCgtaufbJWaJ_s', u'current', u'director')\n",
      "(u'03030735', u'eJZIFS2nbSHZkvCgtaufbJWaJ_s', u'current', u'director')\n",
      "(u'01260275', u'pUbh50NYJEANkTKi9ADvWxqs22w', u'current', u'director')\n",
      "(u'08324083', u'M4tn3QS93s_crb8c9UAaRr8SnA4', u'current', u'director')\n",
      "(u'01260275', u'M4tn3QS93s_crb8c9UAaRr8SnA4', u'current', u'director')\n",
      "(u'01260275', u'MeeK3ZOQPi2M8QSJ53tVEulX_aQ', u'current', u'director')\n",
      "(u'08324083', u'MeeK3ZOQPi2M8QSJ53tVEulX_aQ', u'current', u'director')\n",
      "(u'01260275', u'7x5ydDSuaMx71HB8usAouJQpphQ', u'current', u'director')\n",
      "(u'01260275', u'Bxbf_Fv1GuDBBTHbqNZRVcmKSfA', u'current', u'director')\n",
      "(u'08324083', u'KV_yls-40Oup2XIoeId7sy0b8pA', u'current', u'director')\n",
      "(u'08375622', u'KV_yls-40Oup2XIoeId7sy0b8pA', u'current', u'director')\n",
      "(u'02302281', u'KV_yls-40Oup2XIoeId7sy0b8pA', u'current', u'director')\n",
      "(u'06570330', u'5qL7dtE5Vz9LqWrE6AIGqK-4_zk', u'current', u'director')\n",
      "(u'09627184', u'5qL7dtE5Vz9LqWrE6AIGqK-4_zk', u'current', u'director')\n",
      "(u'01341068', u'5qL7dtE5Vz9LqWrE6AIGqK-4_zk', u'current', u'director')\n",
      "(u'08324083', u'5qL7dtE5Vz9LqWrE6AIGqK-4_zk', u'current', u'director')\n",
      "(u'04868899', u'5qL7dtE5Vz9LqWrE6AIGqK-4_zk', u'current', u'director')\n",
      "(u'08324083', u'Tyk3KEbbpwXQ0RJ-h7fRJCf08B4', u'current', u'director')\n",
      "(u'SC173556', u'Tyk3KEbbpwXQ0RJ-h7fRJCf08B4', u'current', u'director')\n",
      "(u'SC004703', u'Tyk3KEbbpwXQ0RJ-h7fRJCf08B4', u'current', u'director')\n",
      "(u'SC497565', u'Tyk3KEbbpwXQ0RJ-h7fRJCf08B4', u'current', u'director')\n",
      "(u'SC428674', u'Tyk3KEbbpwXQ0RJ-h7fRJCf08B4', u'current', u'director')\n",
      "(u'SC062065', u'Tyk3KEbbpwXQ0RJ-h7fRJCf08B4', u'current', u'director')\n",
      "(u'SC212242', u'Tyk3KEbbpwXQ0RJ-h7fRJCf08B4', u'current', u'director')\n",
      "(u'SC258451', u'Tyk3KEbbpwXQ0RJ-h7fRJCf08B4', u'current', u'director')\n",
      "(u'02116691', u'Tyk3KEbbpwXQ0RJ-h7fRJCf08B4', u'current', u'director')\n",
      "(u'08324083', u'TpIhJAMMa2Cz_DIwBKWhWFUEV5Q', u'current', u'director')\n",
      "(u'06690528', u'TpIhJAMMa2Cz_DIwBKWhWFUEV5Q', u'current', u'director')\n",
      "(u'05056772', u'TpIhJAMMa2Cz_DIwBKWhWFUEV5Q', u'current', u'director')\n",
      "(u'03480780', u'TpIhJAMMa2Cz_DIwBKWhWFUEV5Q', u'current', u'director')\n",
      "(u'03695071', u'TpIhJAMMa2Cz_DIwBKWhWFUEV5Q', u'current', u'director')\n",
      "(u'03075494', u'TpIhJAMMa2Cz_DIwBKWhWFUEV5Q', u'current', u'director')\n",
      "(u'02810089', u'TpIhJAMMa2Cz_DIwBKWhWFUEV5Q', u'current', u'director')\n",
      "(u'02631074', u'TpIhJAMMa2Cz_DIwBKWhWFUEV5Q', u'current', u'director')\n",
      "(u'08324083', u'9Lc-6eIIC21nNFTERPV3aWGaKSQ', u'current', u'director')\n",
      "(u'07962238', u'9Lc-6eIIC21nNFTERPV3aWGaKSQ', u'current', u'director')\n",
      "(u'07549090', u'9Lc-6eIIC21nNFTERPV3aWGaKSQ', u'current', u'director')\n",
      "(u'08324083', u'VQCcxNXNfojXKIX27wlG3o46nFI', u'current', u'director')\n"
     ]
    }
   ],
   "source": [
    "duals=c.execute('''SELECT * FROM codirs''')\n",
    "#duals=c.execute('''select dirnum from coredirs''')\n",
    "for u in duals: print(u)"
   ]
  },
  {
   "cell_type": "code",
   "execution_count": 489,
   "metadata": {
    "collapsed": false
   },
   "outputs": [
    {
     "name": "stdout",
     "output_type": "stream",
     "text": [
      "(u'9Lc-6eIIC21nNFTERPV3aWGaKSQ', 1969, u'NELSON, Simon Jonathan')\n"
     ]
    }
   ],
   "source": [
    "duals=c.execute('''SELECT * FROM directorslite where dirnum=\"9Lc-6eIIC21nNFTERPV3aWGaKSQ\"''')\n",
    "#duals=c.execute('''select dirnum from coredirs''')\n",
    "for u in duals: print(u)"
   ]
  },
  {
   "cell_type": "code",
   "execution_count": 488,
   "metadata": {
    "collapsed": true
   },
   "outputs": [],
   "source": [
    "duals=c.execute('''SELECT * FROM directorslite where dirname=\"CHEYNE, Brian\"''')\n",
    "#duals=c.execute('''select dirnum from coredirs''')\n",
    "for u in duals: print(u)"
   ]
  },
  {
   "cell_type": "code",
   "execution_count": 417,
   "metadata": {
    "collapsed": false
   },
   "outputs": [
    {
     "name": "stdout",
     "output_type": "stream",
     "text": [
      "(u'f15C_rkyG6KnW75E6ZUle1Ah1os', 1948, u'ALLAN, John Murray', u'08762327', u'active', u'WORLDPAY GROUP PLC', u'08762327', u'f15C_rkyG6KnW75E6ZUle1Ah1os', u'current', u'director')\n",
      "(u'f15C_rkyG6KnW75E6ZUle1Ah1os', 1948, u'ALLAN, John Murray', u'00445790', u'active', u'TESCO PLC', u'00445790', u'f15C_rkyG6KnW75E6ZUle1Ah1os', u'current', u'director')\n",
      "(u'f15C_rkyG6KnW75E6ZUle1Ah1os', 1948, u'ALLAN, John Murray', u'02756521', u'active', u'LONDON FIRST', u'02756521', u'f15C_rkyG6KnW75E6ZUle1Ah1os', u'current', u'director')\n",
      "(u'f15C_rkyG6KnW75E6ZUle1Ah1os', 1948, u'ALLAN, John Murray', u'00604574', u'active', u'BARRATT DEVELOPMENTS P L C', u'00604574', u'f15C_rkyG6KnW75E6ZUle1Ah1os', u'current', u'director')\n",
      "(u'f15C_rkyG6KnW75E6ZUle1Ah1os', 1948, u'ALLAN, John Murray', u'07055485', u'liquidation', u'NATAKATE LTD', u'07055485', u'f15C_rkyG6KnW75E6ZUle1Ah1os', u'current', u'director')\n",
      "(u'6LkwdoJ_Rn10_1Fqf34JHbbGI1c', 1954, u'ARMOUR, Mark Henry', u'00445790', u'active', u'TESCO PLC', u'00445790', u'6LkwdoJ_Rn10_1Fqf34JHbbGI1c', u'current', u'director')\n",
      "(u'6LkwdoJ_Rn10_1Fqf34JHbbGI1c', 1954, u'ARMOUR, Mark Henry', u'08645471', u'active', u'CHARBOROUGH RENEWABLES LIMITED', u'08645471', u'6LkwdoJ_Rn10_1Fqf34JHbbGI1c', u'current', u'director')\n",
      "(u'6LkwdoJ_Rn10_1Fqf34JHbbGI1c', 1954, u'ARMOUR, Mark Henry', u'02486368', u'active', u'THE FINANCIAL REPORTING COUNCIL LIMITED', u'02486368', u'6LkwdoJ_Rn10_1Fqf34JHbbGI1c', u'current', u'director')\n",
      "(u'6LkwdoJ_Rn10_1Fqf34JHbbGI1c', 1954, u'ARMOUR, Mark Henry', u'01550778', u'active', u'OPERA NORTH LIMITED', u'01550778', u'6LkwdoJ_Rn10_1Fqf34JHbbGI1c', u'current', u'director')\n",
      "(u'6LkwdoJ_Rn10_1Fqf34JHbbGI1c', 1954, u'ARMOUR, Mark Henry', u'07697612', u'active', u'AMR 87 LIMITED', u'07697612', u'6LkwdoJ_Rn10_1Fqf34JHbbGI1c', u'current', u'director')\n",
      "(u'6LkwdoJ_Rn10_1Fqf34JHbbGI1c', 1954, u'ARMOUR, Mark Henry', u'03528416', u'active', u'SABMILLER PLC', u'03528416', u'6LkwdoJ_Rn10_1Fqf34JHbbGI1c', u'current', u'director')\n",
      "(u'6LkwdoJ_Rn10_1Fqf34JHbbGI1c', 1954, u'ARMOUR, Mark Henry', u'06246609', u'active', u'37 SUTHERLAND STREET MANAGEMENT COMPANY LIMITED', u'06246609', u'6LkwdoJ_Rn10_1Fqf34JHbbGI1c', u'current', u'director')\n",
      "(u'ckp4z5BSV6woEsgZDTwbwjtln4U', 1959, u'COUSINS, Richard John', u'00445790', u'active', u'TESCO PLC', u'00445790', u'ckp4z5BSV6woEsgZDTwbwjtln4U', u'current', u'director')\n",
      "(u'99Q3irUhqx-AIjRaITsuH0dK9xw', 1948, u'GROTE, Byron Elmer', u'00445790', u'active', u'TESCO PLC', u'00445790', u'99Q3irUhqx-AIjRaITsuH0dK9xw', u'current', u'director')\n",
      "(u'lRecVAOeUI710jXPzNBvhVQk8fE', 1965, u'LEWIS, David John', u'00243011', u'active', u'TESCO HOLDINGS LIMITED', u'00243011', u'lRecVAOeUI710jXPzNBvhVQk8fE', u'current', u'director')\n",
      "(u'lRecVAOeUI710jXPzNBvhVQk8fE', 1965, u'LEWIS, David John', u'00519500', u'active', u'TESCO STORES LIMITED', u'00519500', u'lRecVAOeUI710jXPzNBvhVQk8fE', u'current', u'director')\n",
      "(u'lRecVAOeUI710jXPzNBvhVQk8fE', 1965, u'LEWIS, David John', u'00445790', u'active', u'TESCO PLC', u'00445790', u'lRecVAOeUI710jXPzNBvhVQk8fE', u'current', u'director')\n",
      "(u't77338rRl1jkPgPtSsqMekiZNJg', 1957, u'OLSSON, Anders Bertil Mikael', u'00445790', u'active', u'TESCO PLC', u'00445790', u't77338rRl1jkPgPtSsqMekiZNJg', u'current', u'director')\n",
      "(u'KQ_-Dhro_IPanvxuKtN0qTwOtVA', 1958, u'OPPENHEIMER, Deanna Watson', u'SC173198', u'active', u'TESCO PERSONAL FINANCE GROUP LIMITED', u'SC173198', u'KQ_-Dhro_IPanvxuKtN0qTwOtVA', u'current', u'director')\n",
      "(u'KQ_-Dhro_IPanvxuKtN0qTwOtVA', 1958, u'OPPENHEIMER, Deanna Watson', u'SC173199', u'active', u'TESCO PERSONAL FINANCE PLC', u'SC173199', u'KQ_-Dhro_IPanvxuKtN0qTwOtVA', u'current', u'director')\n",
      "(u'KQ_-Dhro_IPanvxuKtN0qTwOtVA', 1958, u'OPPENHEIMER, Deanna Watson', u'00445790', u'active', u'TESCO PLC', u'00445790', u'KQ_-Dhro_IPanvxuKtN0qTwOtVA', u'current', u'director')\n",
      "(u'5o1GJ8yqpl1blGFV9SRohZVIIPg', 1960, u'STEWART, Alan James Harris', u'00243011', u'active', u'TESCO HOLDINGS LIMITED', u'00243011', u'5o1GJ8yqpl1blGFV9SRohZVIIPg', u'current', u'director')\n",
      "(u'5o1GJ8yqpl1blGFV9SRohZVIIPg', 1960, u'STEWART, Alan James Harris', u'00519500', u'active', u'TESCO STORES LIMITED', u'00519500', u'5o1GJ8yqpl1blGFV9SRohZVIIPg', u'current', u'director')\n",
      "(u'5o1GJ8yqpl1blGFV9SRohZVIIPg', 1960, u'STEWART, Alan James Harris', u'08629715', u'active', u'TESCO CORPORATE TREASURY SERVICES PLC', u'08629715', u'5o1GJ8yqpl1blGFV9SRohZVIIPg', u'current', u'director')\n",
      "(u'5o1GJ8yqpl1blGFV9SRohZVIIPg', 1960, u'STEWART, Alan James Harris', u'00445790', u'active', u'TESCO PLC', u'00445790', u'5o1GJ8yqpl1blGFV9SRohZVIIPg', u'current', u'director')\n",
      "(u'VoIbqNw-lY2Zs5NprtW8Q3SOh1E', 1970, u'MOORE, Paul Anthony', u'06265409', u'liquidation', u'BLINKBOX BOOKS LIMITED', u'06265409', u'VoIbqNw-lY2Zs5NprtW8Q3SOh1E', u'current', u'director')\n",
      "(u'VoIbqNw-lY2Zs5NprtW8Q3SOh1E', 1970, u'MOORE, Paul Anthony', u'02068987', u'active', u'FLITWICK PHARMACIES LIMITED', u'02068987', u'VoIbqNw-lY2Zs5NprtW8Q3SOh1E', u'current', u'director')\n",
      "(u'VoIbqNw-lY2Zs5NprtW8Q3SOh1E', 1970, u'MOORE, Paul Anthony', u'FC024402', u'active', u'TESCO CAPITAL NO.2 LIMITED', u'FC024402', u'VoIbqNw-lY2Zs5NprtW8Q3SOh1E', u'current', u'director')\n",
      "(u'VoIbqNw-lY2Zs5NprtW8Q3SOh1E', 1970, u'MOORE, Paul Anthony', u'03176368', u'active', u'TESCO INTERNATIONAL SERVICES LIMITED', u'03176368', u'VoIbqNw-lY2Zs5NprtW8Q3SOh1E', u'current', u'director')\n",
      "(u'VoIbqNw-lY2Zs5NprtW8Q3SOh1E', 1970, u'MOORE, Paul Anthony', u'FC015640', u'active', u'TESCO CAPITAL NO. 1 LIMITED', u'FC015640', u'VoIbqNw-lY2Zs5NprtW8Q3SOh1E', u'current', u'director')\n",
      "(u'VoIbqNw-lY2Zs5NprtW8Q3SOh1E', 1970, u'MOORE, Paul Anthony', u'04012238', u'active', u'TESCO CARD SERVICES LIMITED', u'04012238', u'VoIbqNw-lY2Zs5NprtW8Q3SOh1E', u'current', u'director')\n",
      "(u'VoIbqNw-lY2Zs5NprtW8Q3SOh1E', 1970, u'MOORE, Paul Anthony', u'NI011857', u'active', u'DAILY WRAP PRODUCE LIMITED', u'NI011857', u'VoIbqNw-lY2Zs5NprtW8Q3SOh1E', u'current', u'director')\n",
      "(u'VoIbqNw-lY2Zs5NprtW8Q3SOh1E', 1970, u'MOORE, Paul Anthony', u'SC054904', u'active', u'LOWFOODS LIMITED', u'SC054904', u'VoIbqNw-lY2Zs5NprtW8Q3SOh1E', u'current', u'director')\n",
      "(u'VoIbqNw-lY2Zs5NprtW8Q3SOh1E', 1970, u'MOORE, Paul Anthony', u'05205362', u'active', u'TAPESILVER LIMITED', u'05205362', u'VoIbqNw-lY2Zs5NprtW8Q3SOh1E', u'current', u'director')\n",
      "(u'VoIbqNw-lY2Zs5NprtW8Q3SOh1E', 1970, u'MOORE, Paul Anthony', u'08926930', u'active', u'TESCO LICENCES LIMITED', u'08926930', u'VoIbqNw-lY2Zs5NprtW8Q3SOh1E', u'current', u'director')\n",
      "(u'VoIbqNw-lY2Zs5NprtW8Q3SOh1E', 1970, u'MOORE, Paul Anthony', u'04319645', u'active', u'BROUGHTON RETAIL PARK NOMINEE 3 LIMITED', u'04319645', u'VoIbqNw-lY2Zs5NprtW8Q3SOh1E', u'current', u'director')\n",
      "(u'VoIbqNw-lY2Zs5NprtW8Q3SOh1E', 1970, u'MOORE, Paul Anthony', u'04319669', u'active', u'BROUGHTON RETAIL PARK NOMINEE 4 LIMITED', u'04319669', u'VoIbqNw-lY2Zs5NprtW8Q3SOh1E', u'current', u'director')\n",
      "(u'VoIbqNw-lY2Zs5NprtW8Q3SOh1E', 1970, u'MOORE, Paul Anthony', u'01925269', u'active', u'LONDON AND HOME COUNTIES SUPERSTORES LIMITED', u'01925269', u'VoIbqNw-lY2Zs5NprtW8Q3SOh1E', u'current', u'director')\n",
      "(u'VoIbqNw-lY2Zs5NprtW8Q3SOh1E', 1970, u'MOORE, Paul Anthony', u'05260856', u'active', u'LAUNCHGRAIN LIMITED', u'05260856', u'VoIbqNw-lY2Zs5NprtW8Q3SOh1E', u'current', u'director')\n",
      "(u'VoIbqNw-lY2Zs5NprtW8Q3SOh1E', 1970, u'MOORE, Paul Anthony', u'00862336', u'active', u'J.E. COHEN & COMPANY LIMITED', u'00862336', u'VoIbqNw-lY2Zs5NprtW8Q3SOh1E', u'current', u'director')\n",
      "(u'VoIbqNw-lY2Zs5NprtW8Q3SOh1E', 1970, u'MOORE, Paul Anthony', u'00951257', u'active', u'TESCO ESTATES LIMITED', u'00951257', u'VoIbqNw-lY2Zs5NprtW8Q3SOh1E', u'current', u'director')\n",
      "(u'VoIbqNw-lY2Zs5NprtW8Q3SOh1E', 1970, u'MOORE, Paul Anthony', u'04945945', u'active', u'TESCO PROPERTY PARTNER (NO.1) LIMITED', u'04945945', u'VoIbqNw-lY2Zs5NprtW8Q3SOh1E', u'current', u'director')\n",
      "(u'VoIbqNw-lY2Zs5NprtW8Q3SOh1E', 1970, u'MOORE, Paul Anthony', u'02972724', u'active', u'TESCO DISTRIBUTION LIMITED', u'02972724', u'VoIbqNw-lY2Zs5NprtW8Q3SOh1E', u'current', u'director')\n",
      "(u'VoIbqNw-lY2Zs5NprtW8Q3SOh1E', 1970, u'MOORE, Paul Anthony', u'08312532', u'active', u'TESCO GATESHEAD PROPERTY LIMITED', u'08312532', u'VoIbqNw-lY2Zs5NprtW8Q3SOh1E', u'current', u'director')\n",
      "(u'VoIbqNw-lY2Zs5NprtW8Q3SOh1E', 1970, u'MOORE, Paul Anthony', u'02765213', u'active', u'TESCO FUEL LIMITED', u'02765213', u'VoIbqNw-lY2Zs5NprtW8Q3SOh1E', u'current', u'director')\n",
      "(u'VoIbqNw-lY2Zs5NprtW8Q3SOh1E', 1970, u'MOORE, Paul Anthony', u'07849882', u'active', u'TESCO SARUM (GP) LIMITED', u'07849882', u'VoIbqNw-lY2Zs5NprtW8Q3SOh1E', u'current', u'director')\n",
      "(u'VoIbqNw-lY2Zs5NprtW8Q3SOh1E', 1970, u'MOORE, Paul Anthony', u'01028414', u'active', u'FOOD & WINE LOVERS LIMITED', u'01028414', u'VoIbqNw-lY2Zs5NprtW8Q3SOh1E', u'current', u'director')\n",
      "(u'VoIbqNw-lY2Zs5NprtW8Q3SOh1E', 1970, u'MOORE, Paul Anthony', u'NI015631', u'active', u'CRAZY PRICES', u'NI015631', u'VoIbqNw-lY2Zs5NprtW8Q3SOh1E', u'current', u'director')\n",
      "(u'VoIbqNw-lY2Zs5NprtW8Q3SOh1E', 1970, u'MOORE, Paul Anthony', u'00787296', u'active', u'POWER SUPERMARKETS LIMITED', u'00787296', u'VoIbqNw-lY2Zs5NprtW8Q3SOh1E', u'current', u'director')\n",
      "(u'VoIbqNw-lY2Zs5NprtW8Q3SOh1E', 1970, u'MOORE, Paul Anthony', u'05298861', u'active', u'BUTTONCASE LIMITED', u'05298861', u'VoIbqNw-lY2Zs5NprtW8Q3SOh1E', u'current', u'director')\n",
      "(u'VoIbqNw-lY2Zs5NprtW8Q3SOh1E', 1970, u'MOORE, Paul Anthony', u'05721635', u'active', u'OAKWOOD DISTRIBUTION LIMITED', u'05721635', u'VoIbqNw-lY2Zs5NprtW8Q3SOh1E', u'current', u'director')\n",
      "(u'VoIbqNw-lY2Zs5NprtW8Q3SOh1E', 1970, u'MOORE, Paul Anthony', u'00031903', u'active', u'S.BOTTOMLEY AND BROS.,LIMITED', u'00031903', u'VoIbqNw-lY2Zs5NprtW8Q3SOh1E', u'current', u'director')\n",
      "(u'VoIbqNw-lY2Zs5NprtW8Q3SOh1E', 1970, u'MOORE, Paul Anthony', u'05225620', u'active', u'TESCO (FOXTROT 1) LIMITED', u'05225620', u'VoIbqNw-lY2Zs5NprtW8Q3SOh1E', u'current', u'director')\n",
      "(u'VoIbqNw-lY2Zs5NprtW8Q3SOh1E', 1970, u'MOORE, Paul Anthony', u'SC119497', u'active', u'WM. LOW SUPERMARKETS LIMITED', u'SC119497', u'VoIbqNw-lY2Zs5NprtW8Q3SOh1E', u'current', u'director')\n",
      "(u'VoIbqNw-lY2Zs5NprtW8Q3SOh1E', 1970, u'MOORE, Paul Anthony', u'00299400', u'active', u'STEWARTS SUPERMARKETS LIMITED', u'00299400', u'VoIbqNw-lY2Zs5NprtW8Q3SOh1E', u'current', u'director')\n",
      "(u'VoIbqNw-lY2Zs5NprtW8Q3SOh1E', 1970, u'MOORE, Paul Anthony', u'01882853', u'active', u'ADMINSTORE LIMITED', u'01882853', u'VoIbqNw-lY2Zs5NprtW8Q3SOh1E', u'current', u'director')\n",
      "(u'VoIbqNw-lY2Zs5NprtW8Q3SOh1E', 1970, u'MOORE, Paul Anthony', u'04319626', u'active', u'BROUGHTON RETAIL PARK NOMINEE 1 LIMITED', u'04319626', u'VoIbqNw-lY2Zs5NprtW8Q3SOh1E', u'current', u'director')\n",
      "(u'VoIbqNw-lY2Zs5NprtW8Q3SOh1E', 1970, u'MOORE, Paul Anthony', u'03044236', u'active', u'HARTS THE GROCERS (RUSSELL SQUARE) LIMITED', u'03044236', u'VoIbqNw-lY2Zs5NprtW8Q3SOh1E', u'current', u'director')\n",
      "(u'VoIbqNw-lY2Zs5NprtW8Q3SOh1E', 1970, u'MOORE, Paul Anthony', u'02796568', u'active', u'BEEHYTHE ESTATES LIMITED', u'02796568', u'VoIbqNw-lY2Zs5NprtW8Q3SOh1E', u'current', u'director')\n",
      "(u'VoIbqNw-lY2Zs5NprtW8Q3SOh1E', 1970, u'MOORE, Paul Anthony', u'03193655', u'active', u'TESCO DISTRIBUTION HOLDINGS LIMITED', u'03193655', u'VoIbqNw-lY2Zs5NprtW8Q3SOh1E', u'current', u'director')\n",
      "(u'-BHxW4q8WVGGlHKJNe-gcKJYCnw', 1967, u'MORRIS, Adrian Charles', u'01118945', u'active', u'TESCO PENSION TRUSTEES LIMITED', u'01118945', u'-BHxW4q8WVGGlHKJNe-gcKJYCnw', u'current', u'director')\n",
      "(u'-BHxW4q8WVGGlHKJNe-gcKJYCnw', 1967, u'MORRIS, Adrian Charles', u'00519500', u'active', u'TESCO STORES LIMITED', u'00519500', u'-BHxW4q8WVGGlHKJNe-gcKJYCnw', u'current', u'director')\n",
      "(u'-BHxW4q8WVGGlHKJNe-gcKJYCnw', 1967, u'MORRIS, Adrian Charles', u'00243011', u'active', u'TESCO HOLDINGS LIMITED', u'00243011', u'-BHxW4q8WVGGlHKJNe-gcKJYCnw', u'current', u'director')\n",
      "(u'-BHxW4q8WVGGlHKJNe-gcKJYCnw', 1967, u'MORRIS, Adrian Charles', u'07600956', u'active', u'TESCO SERVICES LIMITED', u'07600956', u'-BHxW4q8WVGGlHKJNe-gcKJYCnw', u'current', u'director')\n",
      "(u'-BHxW4q8WVGGlHKJNe-gcKJYCnw', 1967, u'MORRIS, Adrian Charles', u'02972724', u'active', u'TESCO DISTRIBUTION LIMITED', u'02972724', u'-BHxW4q8WVGGlHKJNe-gcKJYCnw', u'current', u'director')\n",
      "(u'-BHxW4q8WVGGlHKJNe-gcKJYCnw', 1967, u'MORRIS, Adrian Charles', u'03193632', u'active', u'TESCO OVERSEAS INVESTMENTS LIMITED', u'03193632', u'-BHxW4q8WVGGlHKJNe-gcKJYCnw', u'current', u'director')\n",
      "(u'-BHxW4q8WVGGlHKJNe-gcKJYCnw', 1967, u'MORRIS, Adrian Charles', u'07656305', u'active', u'TESCO TREASURY SERVICES PLC', u'07656305', u'-BHxW4q8WVGGlHKJNe-gcKJYCnw', u'current', u'director')\n",
      "(u'-BHxW4q8WVGGlHKJNe-gcKJYCnw', 1967, u'MORRIS, Adrian Charles', u'02462858', u'active', u'ONE STOP STORES LIMITED', u'02462858', u'-BHxW4q8WVGGlHKJNe-gcKJYCnw', u'current', u'director')\n",
      "(u'vwCCh4e7TdBdpvP-5lkuYD_cdB0', 1963, u'RIGBY, Steven Andrew', u'02412674', u'active', u'SPEN HILL PROPERTIES (HOLDINGS) PLC', u'02412674', u'vwCCh4e7TdBdpvP-5lkuYD_cdB0', u'current', u'director')\n",
      "(u'vwCCh4e7TdBdpvP-5lkuYD_cdB0', 1963, u'RIGBY, Steven Andrew', u'02353133', u'active', u'TESCO PROPERTY HOLDINGS LIMITED', u'02353133', u'vwCCh4e7TdBdpvP-5lkuYD_cdB0', u'current', u'director')\n",
      "(u'vwCCh4e7TdBdpvP-5lkuYD_cdB0', 1963, u'RIGBY, Steven Andrew', u'00519500', u'active', u'TESCO STORES LIMITED', u'00519500', u'vwCCh4e7TdBdpvP-5lkuYD_cdB0', u'current', u'director')\n",
      "(u'vwCCh4e7TdBdpvP-5lkuYD_cdB0', 1963, u'RIGBY, Steven Andrew', u'00243011', u'active', u'TESCO HOLDINGS LIMITED', u'00243011', u'vwCCh4e7TdBdpvP-5lkuYD_cdB0', u'current', u'director')\n",
      "(u'vwCCh4e7TdBdpvP-5lkuYD_cdB0', 1963, u'RIGBY, Steven Andrew', u'05888922', u'active', u'TESCO PROPERTY HOLDINGS (NO.2) LIMITED', u'05888922', u'vwCCh4e7TdBdpvP-5lkuYD_cdB0', u'current', u'director')\n",
      "(u'vwCCh4e7TdBdpvP-5lkuYD_cdB0', 1963, u'RIGBY, Steven Andrew', u'01737462', u'active', u'BROADFIELDS MANAGEMENT LIMITED', u'01737462', u'vwCCh4e7TdBdpvP-5lkuYD_cdB0', u'current', u'director')\n"
     ]
    }
   ],
   "source": [
    "duals=c.execute('''SELECT * FROM directorslite d JOIN companieslite c JOIN codirs as cd where d.dirnum=cd.dirnum and c.conum=cd.conum ''')\n",
    "for u in duals: print(u)"
   ]
  },
  {
   "cell_type": "code",
   "execution_count": 394,
   "metadata": {
    "collapsed": false
   },
   "outputs": [
    {
     "name": "stdout",
     "output_type": "stream",
     "text": [
      "(u'08762327',)\n",
      "(u'00445790',)\n",
      "(u'02756521',)\n",
      "(u'00604574',)\n",
      "(u'07055485',)\n",
      "(u'00445790',)\n",
      "(u'08645471',)\n",
      "(u'02486368',)\n",
      "(u'01550778',)\n",
      "(u'07697612',)\n",
      "(u'03528416',)\n",
      "(u'06246609',)\n",
      "(u'00445790',)\n",
      "(u'00445790',)\n",
      "(u'00243011',)\n",
      "(u'00519500',)\n",
      "(u'00445790',)\n",
      "(u'00445790',)\n",
      "(u'SC173198',)\n",
      "(u'SC173199',)\n",
      "(u'00445790',)\n",
      "(u'00243011',)\n",
      "(u'00519500',)\n",
      "(u'08629715',)\n",
      "(u'00445790',)\n"
     ]
    }
   ],
   "source": [
    "duals=c.execute('''SELECT conum FROM codirs\n",
    "                    ''')\n",
    "for u in duals: print(u)"
   ]
  },
  {
   "cell_type": "code",
   "execution_count": 60,
   "metadata": {
    "collapsed": false
   },
   "outputs": [
    {
     "data": {
      "text/plain": [
       "<sqlite3.Cursor at 0x10731db20>"
      ]
     },
     "execution_count": 60,
     "metadata": {},
     "output_type": "execute_result"
    }
   ],
   "source": [
    "c.executemany('INSERT INTO directors (id, dob,addr,title,cnt,descr) '\n",
    "                 'VALUES (:id,:dob,:addr,:title,:cnt,:descr)', x)"
   ]
  },
  {
   "cell_type": "code",
   "execution_count": null,
   "metadata": {
    "collapsed": true
   },
   "outputs": [],
   "source": [
    "y=[{'conum':q['appointed_to']['company_number'],\n",
    "          'costatus':q['appointed_to']['company_status'],\n",
    "          'coname':q['appointed_to']['company_name']} for q in e['items'] ]"
   ]
  },
  {
   "cell_type": "code",
   "execution_count": null,
   "metadata": {
    "collapsed": true
   },
   "outputs": [],
   "source": [
    "z=[{'conum':,'dirnum':, 'typ':, 'status':}]"
   ]
  },
  {
   "cell_type": "code",
   "execution_count": 61,
   "metadata": {
    "collapsed": false
   },
   "outputs": [
    {
     "name": "stdout",
     "output_type": "stream",
     "text": [
      "(u'/officers/fx_cgCEl1nfMR8pXlcqlemKowxs/appointments', 1960, u'26 Stretton Road, Greenmount, Bury, Lancashire, BL8 4DF', u'Peter HORROCKS', 4, u'Total number of appointments 4 - Born April 1960')\n",
      "(u'/officers/pHhQOg0gUt8V-8CWgKMx8P3tEdQ/appointments', 1953, u'Orchard Lea, Old Bury Road, Alpheton, Sudbury, Suffolk, United Kingdom, CO10 9BT', u'Peter HORROCKS', 3, u'Total number of appointments 3 - Born October 1953')\n",
      "(u'/officers/LnKbanK0iJ7Ovo2SOdySBgL8PVM/appointments', 1942, u'Mon Reve, Manchester Road, Blackrod, Bolton, Lancashire, BL6 5LS', u'Peter HORROCKS', 2, u'Total number of appointments 2 - Born January 1942')\n",
      "(u'/officers/MeeK3ZOQPi2M8QSJ53tVEulX_aQ/appointments', 1959, u'Walton Hall, Milton Keynes, Buckinghamshire, MK7 6AA', u'Peter HORROCKS', 2, u'Total number of appointments 2 - Born October 1959')\n",
      "(u'/officers/gCQeLQmnBol7dzvRUwSRzcQESvk/appointments', 1945, u'Redmayne Hall, Little Urswick, Ulverston, Cumbria, LA12 0PL', u'Peter HORROCKS', 2, u'Total number of appointments 2 - Born November 1945')\n",
      "(u'/officers/MPIj14JtbOLR8V6HpQtRyufXmkA/appointments', 1955, u'Mansion House, Manchester Road, Altrincham, Cheshire, England, WA14 4RW', u'Peter HORROCKS', 1, u'Total number of appointments 1 - Born November 1955')\n",
      "(u'/officers/FPplxHepRVKyUAwp0Anww4t5EOc/appointments', 1959, u'Fell View Cottage, Garrs End Lane, Grassington, Skipton, North Yorkshire, United Kingdom, BD23 5BB', u'Peter HORROCKS', 1, u'Total number of appointments 1 - Born November 1959')\n",
      "(u'/officers/d1ZtdLMnQq4UhtIxyVhwPplDD44/appointments', 1946, u'Beacon House, Brambleside, Bellbrook Park Uckfield, East Sussex, TN22 1PL', u'Peter HORROCKS', 1, u'Total number of appointments 1 - Born August 1946')\n",
      "(u'/officers/4-hR6E9P_XwBWlCOvEX3ulVrLxQ/appointments', 1960, u'82 Holme Avenue, Bury, Lancashire, United Kingdom, BL8 1HW', u'Peter HORROCKS', 1, u'Total number of appointments 1 - Born April 1960')\n",
      "(u'/officers/lvJfGf3Z0YqlE0Vt0GZE_DjC7_A/appointments', 1937, u'22 Bealey Drive, Bury, Lancashire, BL9 9NA', u'Peter HORROCKS', 1, u'Total number of appointments 1 - Born February 1937')\n",
      "(u'/officers/SV2yB_CBN9gTNWdWa1wWmpRq2Jg/appointments', 1933, u'7 Vernon Close, Poynton, Stockport, Cheshire, SK12 1NG', u'Peter HORROCKS', 1, u'Total number of appointments 1 - Born June 1933')\n",
      "(u'/officers/EwCC6Fi5_iddiJgpv6xu1xktsyU/appointments', 1940, u'21 Newchurch Lane, Culcheth, Warrington, Cheshire, WA3 5RW', u'Peter HORROCKS', 1, u'Total number of appointments 1 - Born July 1940')\n",
      "(u'/officers/zy7AqPutNxkLwgcJWi45wiJ1RPA/appointments', None, u'Fell View Cottage, Garrs End Lane Grassington, Skipton, BD23 5BB', u'Peter HORROCKS', 1, u'Total number of appointments 1')\n"
     ]
    }
   ],
   "source": [
    "for r in c.execute('select * from directors where title=\"Peter Horrocks\" COLLATE NOCASE order by cnt desc'):\n",
    "    print(r)"
   ]
  },
  {
   "cell_type": "code",
   "execution_count": 55,
   "metadata": {
    "collapsed": false
   },
   "outputs": [
    {
     "name": "stdout",
     "output_type": "stream",
     "text": [
      "(u'/officers/LnKbanK0iJ7Ovo2SOdySBgL8PVM/appointments', 1942, u'Mon Reve, Manchester Road, Blackrod, Bolton, Lancashire, BL6 5LS', u'Peter HORROCKS', 2, u'Total number of appointments 2 - Born January 1942')\n"
     ]
    }
   ],
   "source": [
    "for r in c.execute(\"select * from directors where addr LIKE '%Manchester%' order by cnt desc\"):\n",
    "    print(r)"
   ]
  },
  {
   "cell_type": "code",
   "execution_count": 26,
   "metadata": {
    "collapsed": false
   },
   "outputs": [],
   "source": [
    "from datetime import date\n",
    "\n",
    "def dirCompanies(a):\n",
    "    if not len(a['items']): return\n",
    "    if 'name' in a: name=a['name']\n",
    "    else:name=a['title']\n",
    "    print('{} [{}], {}, has the following appointments:'.format(name,a['links']['self'].split('/')[2],\n",
    "                                                       date.today().year-a['date_of_birth']['year'] -(date.today().month <a['date_of_birth']['month'] )))\n",
    "    \n",
    "    for aa in a['items']:\n",
    "        print('\\t- {}, {} ({}): {} ({})'.format(aa['appointed_to']['company_name'],\n",
    "                                        aa['address']['locality'] if 'locality' in aa['address'] else '-',\n",
    "                                    aa['appointed_to']['company_number'],\n",
    "                                    aa['officer_role'],\n",
    "                                    aa['appointed_on'] if 'appointed_on' in aa else aa['appointed_before']))\n"
   ]
  },
  {
   "cell_type": "code",
   "execution_count": 81,
   "metadata": {
    "collapsed": false
   },
   "outputs": [
    {
     "name": "stdout",
     "output_type": "stream",
     "text": [
      "Andrew Peter HORROCKS [YxnxEXxiCUWChbBlnNm5wo-DYqM], 45, has the following appointments:\n",
      "\t- ANDREW HORROCKS LIMITED, Preston, (04841743): director (2003-07-22)\n",
      "Peter HORROCKS [LnKbanK0iJ7Ovo2SOdySBgL8PVM], 74, has the following appointments:\n",
      "\t- C.HORROCKS & SONS LIMITED, Bolton (00783568): director (1991-06-20)\n",
      "\t- C.HORROCKS & SONS LIMITED, Lancs (00783568): secretary (1991-06-20)\n",
      "Peter HORROCKS [MeeK3ZOQPi2M8QSJ53tVEulX_aQ], 56, has the following appointments:\n",
      "\t- OPEN UNIVERSITY WORLDWIDE LIMITED, Buckinghamshire (01260275): director (2015-06-11)\n",
      "\t- FUTURELEARN LIMITED, Milton Keynes (08324083): director (2015-06-11)\n",
      "Peter HORROCKS [gCQeLQmnBol7dzvRUwSRzcQESvk], 70, has the following appointments:\n",
      "\t- HORROCKS AND CROSS LIMITED, Ulverston (02094977): director (1991-12-31)\n",
      "\t- HORROCKS AND CROSS LIMITED, Ulverston (02094977): secretary (1991-12-31)\n",
      "Peter HORROCKS [pHhQOg0gUt8V-8CWgKMx8P3tEdQ], 62, has the following appointments:\n",
      "\t- P H SOCIAL WORK LIMITED, Sudbury (07477208): director (2010-12-24)\n",
      "\t- P H CONSULTANCY LIMITED, Sudbury (06936656): secretary (2009-06-17)\n",
      "\t- P H CONSULTANCY LIMITED, Sudbury (06936656): director (2009-06-17)\n"
     ]
    }
   ],
   "source": [
    "import re\n",
    "\n",
    "regexp=re.compile(r'.*companies ?(?:is|are) (.*) a director of?')\n",
    "\n",
    "m=re.match(regexp,'What companies is Peter Horrocks a director of?')\n",
    "for c in ch_searchOfficers(m.group(1),n=5)['items']:\n",
    "    dirCompanies(ch_getAppointments(c['links']['self']))"
   ]
  },
  {
   "cell_type": "code",
   "execution_count": 90,
   "metadata": {
    "collapsed": false
   },
   "outputs": [],
   "source": [
    "import re\n",
    "regexp=re.compile(r'Which (.*) is a director of (.*?)\\??$')\n",
    "\n",
    "m=re.match(regexp,'Which michael jagger is a director of Rolling Stones?')\n",
    "for c in ch_searchOfficers(m.group(1),n=100,company=m.group(2))['items']:\n",
    "    dirCompanies(c)"
   ]
  },
  {
   "cell_type": "code",
   "execution_count": 30,
   "metadata": {
    "collapsed": false
   },
   "outputs": [],
   "source": [
    "import re\n",
    "regexp=re.compile(r'.*companies in (.*?) (?:is|are) (.*) a director of\\?')\n",
    "\n",
    "m=re.match(regexp,'What companies in Wight is Simon Perry a director of?')\n",
    "\n",
    "for c in ch_searchOfficers(m.group(2),n=5)['items']:\n",
    "    dirCompanies(ch_getAppointments(c['links']['self'],location=m.group(1)))"
   ]
  },
  {
   "cell_type": "code",
   "execution_count": 28,
   "metadata": {
    "collapsed": false
   },
   "outputs": [
    {
     "name": "stdout",
     "output_type": "stream",
     "text": [
      "FUTURELEARN LIMITED\n",
      "BEAN, Martin George (resigned on 2016-03-04)\n",
      "CRAMER, Stephen John (resigned on 2013-01-21)\n",
      "WOODBURN, Alexander Fraser (resigned on 2015-12-18)\n",
      "----\n"
     ]
    }
   ],
   "source": [
    "import re\n",
    "regexp=re.compile(r'Who were the previous directors of (.*?)[\\?]?$')\n",
    "\n",
    "m=re.match(regexp,'Who were the previous directors of Futurelearn?')\n",
    "for c in ch_searchCompanies(m.group(1),5,typ='contains')['items']:\n",
    "    print(c['title'])\n",
    "    for o in ch_getCompanyOfficers(c['company_number'],typ='previous')['items']:\n",
    "        print('{} (resigned on {})'.format(o['name'],o['resigned_on']))\n",
    "    print('----')"
   ]
  },
  {
   "cell_type": "code",
   "execution_count": 111,
   "metadata": {
    "collapsed": false
   },
   "outputs": [],
   "source": [
    "xx=ch_searchOfficers('Michael Jagger',n=50,company='Formula One')['items'][0]['items']\n",
    "f1seeds=[i['appointed_to']['company_number'] for i in xx]"
   ]
  },
  {
   "cell_type": "code",
   "execution_count": 110,
   "metadata": {
    "collapsed": false
   },
   "outputs": [
    {
     "data": {
      "text/plain": [
       "[u'04169896',\n",
       " u'08915039',\n",
       " u'08445563',\n",
       " u'01545332',\n",
       " u'05731193',\n",
       " u'04174493',\n",
       " u'07714752',\n",
       " u'01867673',\n",
       " u'00968180',\n",
       " u'08445563',\n",
       " u'07714752',\n",
       " u'05731193',\n",
       " u'01545332',\n",
       " u'04174493',\n",
       " u'04169896',\n",
       " u'03737094']"
      ]
     },
     "execution_count": 110,
     "metadata": {},
     "output_type": "execute_result"
    }
   ],
   "source": []
  },
  {
   "cell_type": "code",
   "execution_count": null,
   "metadata": {
    "collapsed": true
   },
   "outputs": [],
   "source": [
    "def exact_match(items, txt):\n",
    "    ''' Prioritise the list so that exact matches are first... '''\n",
    "    pass"
   ]
  }
 ],
 "metadata": {
  "kernelspec": {
   "display_name": "Python 2",
   "language": "python",
   "name": "python2"
  },
  "language_info": {
   "codemirror_mode": {
    "name": "ipython",
    "version": 2
   },
   "file_extension": ".py",
   "mimetype": "text/x-python",
   "name": "python",
   "nbconvert_exporter": "python",
   "pygments_lexer": "ipython2",
   "version": "2.7.11"
  }
 },
 "nbformat": 4,
 "nbformat_minor": 0
}
